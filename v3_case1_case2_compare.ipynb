{
 "cells": [
  {
   "cell_type": "code",
   "execution_count": 1,
   "id": "4e5eb04c-44ea-444d-90af-9b6fade6dd59",
   "metadata": {},
   "outputs": [
    {
     "name": "stdout",
     "output_type": "stream",
     "text": [
      "%pylab is deprecated, use %matplotlib inline and import the required libraries.\n",
      "Populating the interactive namespace from numpy and matplotlib\n"
     ]
    }
   ],
   "source": [
    "%pylab inline\n",
    "# next 2 lines allow to automatically reload modules that have been changed externally\n",
    "%reload_ext autoreload\n",
    "%autoreload 2\n",
    "import os, sys\n",
    "sys.path.insert(0, '/nobackup/jakravit/smartg-dev/smartg/')\n",
    "from luts.luts import LUT, MLUT, Idx, merge, read_mlut\n",
    "\n",
    "from smartg.albedo import Albedo_spectrum, Albedo_speclib, Albedo_cst\n",
    "from smartg.bandset import BandSet\n",
    "from smartg.smartg import Smartg, Sensor, multi_profiles, reduce_diff\n",
    "from smartg.smartg import RoughSurface, LambSurface, FlatSurface, Environment, multi_profiles\n",
    "from smartg.atmosphere import AtmAFGL, AeroOPAC, CompOPAC, CloudOPAC, diff1, read_phase, Species, trapzinterp\n",
    "from smartg.water import IOP_1, IOP, IOP_profile, IOP_Rw, IOP_base\n",
    "from smartg.reptran import REPTRAN, reduce_reptran\n",
    "#from smartg.kdis import KDIS, reduce_kdis\n",
    "from smartg.tools.tools import SpherIrr, Irr, reduce_Irr\n",
    "from smartg.tools.cdf import ICDF\n",
    "from smartg.tools.phase import integ_phase, calc_iphase\n",
    "\n",
    "from smartg.tools.smartg_view import compare, plot_polar, spectrum , mdesc \n",
    "from smartg.tools.smartg_view import spectrum_view,transect_view,profile_view,phase_view,smartg_view,input_view\n",
    "import warnings\n",
    "\n",
    "from scipy.interpolate import interp1d\n",
    "warnings.filterwarnings(\"ignore\")"
   ]
  },
  {
   "cell_type": "code",
   "execution_count": 2,
   "id": "7851214b-5020-436c-a320-ad46ef2487e4",
   "metadata": {},
   "outputs": [
    {
     "name": "stdout",
     "output_type": "stream",
     "text": [
      "CASE 1 INFO:\n",
      "Chla: 0.563 ug/L\n",
      "Minl: 0.014625739628414677 g/L\n",
      "ag440: 0.08964525121529826 m^-1\n",
      "\n",
      "CASE 2 INFO:\n",
      "Chla: 12.062 ug/L\n",
      "Minl: 3.1160428571428573 g/L\n",
      "ag440: 1.16 m^-1\n"
     ]
    }
   ],
   "source": [
    "import pickle\n",
    "INFO = True\n",
    "WAV = np.linspace(400, 900., num=201, dtype=np.float32)\n",
    "WAV_CDOM = np.arange(240., 900., 2.5, dtype=np.float32)\n",
    "\n",
    "# initiate iop dict\n",
    "# iops, cols, row = build_Case2(phy_library, datamin, datadet, benthic_lib, adj_lib, aero_lib)\n",
    "with open('/nobackup/jakravit/data/iops_test.p','rb') as fp:\n",
    "    iops_case2 = pickle.load(fp)\n",
    "\n",
    "with open('/nobackup/jakravit/data/case1_runlist.p','rb') as fp:\n",
    "    case1 = pickle.load(fp)\n",
    "\n",
    "runID1 = '0.563_0.015_0.033_0.032_FShk4FqxnG'\n",
    "iops_case1 = case1[runID1]    \n",
    "\n",
    "if INFO:\n",
    "    print ('CASE 1 INFO:')\n",
    "    print ('Chla: {} ug/L'.format(iops_case1['Phyto']['TotChl']))\n",
    "    print ('Minl: {} g/L'.format(iops_case1['Min']['tot_conc']))\n",
    "    print ('ag440: {} m^-1'.format(iops_case1['CDOM']['a_tot'][80]))\n",
    "    print ('\\nCASE 2 INFO:')\n",
    "    print ('Chla: {} ug/L'.format(iops_case2['Phyto']['TotChl']))\n",
    "    print ('Minl: {} g/L'.format(iops_case2['Min']['Tot_conc']))\n",
    "    print ('ag440: {} m^-1'.format(iops_case2['CDOM']['ag440']))\n",
    "    # print ('Max Depth: {} m'.format(iops_case1['Depth']['Dmax']))\n",
    "    # print ('Water radius: {} km'.format(iops_case1['Adjacency']['water_radius']))\n",
    "    # print ('Dist from shore: {} km'.format(iops_case1['Adjacency']['dist']))"
   ]
  },
  {
   "cell_type": "code",
   "execution_count": 3,
   "id": "48438575-ad01-4e57-9caa-47f4087ec016",
   "metadata": {},
   "outputs": [],
   "source": [
    "from smartg_int_library import *\n",
    "\n",
    "# get mixing IOP's\n",
    "ap1,ac1,bp1,vsf1,angles = mix(iops_case1)\n",
    "ap2,ac2,bp2,vsf2,angles = mix(iops_case2)\n",
    "\n",
    "# wavelength grid/slice for absorption and scattering coefficients\n",
    "# wavelength grid for outputs\n",
    "wavrange = slice(0,200,5)\n",
    "wav      = WAV[wavrange]\n",
    "# wavelength grid/slice for scattering matrices\n",
    "wavrange_vsf = slice(0,200,50)\n",
    "wav_vsf      = WAV[wavrange_vsf]\n",
    "# vertical grid\n",
    "Z   = np.array([0, -10, -25., -50.])\n",
    "zeros=np.zeros_like(wav)\n",
    "\n",
    "#IOP's profiles\n",
    "# case 1 lists\n",
    "vsf_list1=[vsf1[:,wavrange_vsf,:], vsf1[:,wavrange_vsf,:], vsf1[:,wavrange_vsf,:], vsf1[:,wavrange_vsf,:] ]\n",
    "bp_list1 = [zeros, bp1[wavrange], bp1[wavrange], bp1[wavrange]]\n",
    "ap_list1 = [zeros, ap1[wavrange], ap1[wavrange], ap1[wavrange]]\n",
    "ac_list1 = [zeros, ac1[wavrange], ac1[wavrange], ac1[wavrange]]\n",
    "#aw_list = [zeros, ww['aw'], ww['aw'], ww['aw']] \n",
    "#bw_list = [zeros, ww['bw'], ww['bw'], ww['bw']] \n",
    "aw_list = None # use SMART-G default pure water absorption\n",
    "bw_list = None # use SMART-G default pure water scattering\n",
    "\n",
    "# case 2 lists\n",
    "vsf_list2=[vsf2[:,wavrange_vsf,:], vsf2[:,wavrange_vsf,:], vsf2[:,wavrange_vsf,:], vsf2[:,wavrange_vsf,:] ]\n",
    "bp_list2 = [zeros, bp2[wavrange], bp2[wavrange], bp2[wavrange]]\n",
    "ap_list2 = [zeros, ap2[wavrange], ap2[wavrange], ap2[wavrange]]\n",
    "ac_list2 = [zeros, ac2[wavrange], ac2[wavrange], ac2[wavrange]]\n",
    "\n",
    "# Albedos speclib library inputs\n",
    "Type = ['Sand', 'Forest']\n",
    "ALB = [Albedo_speclib('/nobackup/jakravit/data/albedos/rock.sedimentary.sandstone.fine.all.sandstone_7.jhu.becknic.spectrum.txt'),\n",
    "       Albedo_speclib('/nobackup/jakravit/data/albedos/vegetation.tree.betula.lenta.vswir.bele-1-55.ucsb.asd.spectrum.txt')]\n",
    "\n",
    "# dirspec = '/rfs/data/speclib2.0/data/'\n",
    "# Type    = ['Forest', 'Bare soil', 'Grass', 'Snow', 'Sand']\n",
    "# ALB     = [Albedo_speclib(dirspec+'jhu.becknic.vegetation.trees.deciduous.solid.decidou.spectrum.txt'),\n",
    "#            Albedo_speclib(dirspec+'jhu.becknic.soil.alfisol.paleustalf.coarse.87P473.spectrum.txt'),\n",
    "#            Albedo_speclib(dirspec+'jhu.becknic.vegetation.grass.green.solid.gras.spectrum.txt'),\n",
    "#            Albedo_speclib(dirspec+'jhu.becknic.water.snow.granular.82um.medium.spectrum.txt'),\n",
    "#            Albedo_speclib(dirspec+'jhu.becknic.rock.sedimentary.sandstone.fine.sandst7.spectrum.txt')]\n",
    "\n",
    "# water MLUT building\n",
    "# VSF truncation at 25 deg\n",
    "# seafloor Sand albedo\n",
    "water1   = import_iop(ap_list1, bp_list1, ac_list1, vsf_list1, wav, wav_vsf, Z, angles, \n",
    "                    aw_list=aw_list, bw_list=bw_list, ang_trunc=25.,  )\n",
    "\n",
    "water2   = import_iop(ap_list2, bp_list2, ac_list2, vsf_list2, wav, wav_vsf, Z, angles, \n",
    "                    aw_list=aw_list, bw_list=bw_list, ang_trunc=25.,  ALB=ALB[0])\n"
   ]
  },
  {
   "cell_type": "markdown",
   "id": "54114028-5e5d-46ab-b79a-62ce63546f37",
   "metadata": {},
   "source": [
    "## Comments on Inputs\n",
    "- Why is the first entry for VSF list non-zero, where bp, ap, ac lists are zero?\n",
    "- Getting \"AttributeError: 'MLUT' object has no attribute 'calc' (removed and seems to still work fine...)"
   ]
  },
  {
   "cell_type": "code",
   "execution_count": 4,
   "id": "f6e0eff6-b15f-4337-b2de-60f8056f9162",
   "metadata": {},
   "outputs": [],
   "source": [
    "# Goal: to simulate an observation from a satellite sensor \n",
    "# for 1 thv and 1 azimuth\n",
    "# with a straight coastline (limit ocean land at x=0, ocean for x <0)\n",
    "# the sensor is looking to a water pixel located at a distance 'dist' from the coastline\n",
    "# we simulate a coastline as being the zone near a big circle, whose radius is 1e6 km\n",
    "# centred on a point located far from the sensor (-1e6 km from the origin )\n",
    "# The interior of the circle is the ocean\n",
    "\n",
    "# Ocean surface\n",
    "surf=RoughSurface(WAVE_SHADOW=True, WIND=12.)\n",
    "\n",
    "# Land environment\n",
    "D       = 1.0e6 #(km)\n",
    "# The Environement object creates a disk of ocean surface with radius ENV_SIZE\n",
    "# centred on X0,Y0 , surrounded by lambertian reflector of albedo ALB\n",
    "env     = Environment(ENV=1, \n",
    "                  ENV_SIZE= D ,       # radius of the circle with ocean surface condition\n",
    "                  X0= -D,             # X coordinate of the center of the circle\n",
    "                  Y0= 0,\n",
    "                  ALB=ALB[1] # Lambertian grey albedo of the land zone (forest)\n",
    "                 )\n",
    "#Observer\n",
    "HTOA   = 120.\n",
    "VZA    = 30.\n",
    "VAA    = 90.\n",
    "dist   = 1 # distance to the coast(km)\n",
    "DeltaH = HTOA   * np.tan(np.radians(VZA))\n",
    "DeltaX = DeltaH * np.cos(np.radians(180-VAA))\n",
    "DeltaY = DeltaH * np.sin(np.radians(180-VAA))\n",
    "sensor_TOA = Sensor(\n",
    "    POSX = -dist + DeltaX,      # Sensor coordinates (in km) (default:origin(0.,0.,0.))\n",
    "    POSY = DeltaY,\n",
    "    POSZ = HTOA,\n",
    "    THDEG= 180-VZA, # Sensor 'Emitting' zenith angle, from 0: Zenith to 180.: Nadir (default:0.)\n",
    "    PHDEG= VAA,     # Sensor 'Emitting' azimuth angle (default:0.)\n",
    "    LOC  = 'ATMOS', # location of sensor (default: (SURF0P, just above surface)\n",
    "    FOV  = 0.,      # Sensor FOV (default 0.)\n",
    "    TYPE = 0        # Sensor type :Radiance (0), Planar flux (1), Spherical Flux (2), (default 0)\n",
    "    )\n",
    "sensor_BOA = Sensor(THDEG=180-VZA, PHDEG=VAA, TYPE=0, LOC='ATMOS')\n",
    "\n",
    "# Atmosphere\n",
    "# to be computed at eh same wavlegnth grid as water IOP's\n",
    "atm = AtmAFGL('afglt', comp=[AeroOPAC('continental_average', 0.2, 550)], pfwav=wav_vsf).calc(wav)"
   ]
  },
  {
   "cell_type": "code",
   "execution_count": 5,
   "id": "203ae4c2-f7e8-4b8a-a0b8-64a49a4736bc",
   "metadata": {},
   "outputs": [],
   "source": [
    "# Backward Local Estimate -> Solar geometries\n",
    "#le  = {'th_deg':np.linspace(0,85,num=12), 'phi_deg':np.linspace(0,360,num=18)}\n",
    "le = {'th_deg':np.linspace(30,60,num=2), 'phi_deg':np.linspace(0,360,num=4)}\n",
    "alis = True\n",
    "alis_options = {'nlow':-1}\n",
    "SMa = Smartg(device=0, back=True, alt_pp=True, alis=alis)\n",
    "SM  = Smartg(device=0, back=True, alt_pp=True)"
   ]
  },
  {
   "cell_type": "code",
   "execution_count": 6,
   "id": "50b59fbe-d1d7-400f-8989-6cbad51309ee",
   "metadata": {},
   "outputs": [
    {
     "data": {
      "application/vnd.jupyter.widget-view+json": {
       "model_id": "7f8c90d030ed4dc9b8828976919b9c75",
       "version_major": 2,
       "version_minor": 0
      },
      "text/plain": [
       "Box(children=(FloatProgress(value=0.0, max=10000.0), Label(value='')), layout=Layout(align_items='center', dis…"
      ]
     },
     "metadata": {},
     "output_type": "display_data"
    },
    {
     "data": {
      "application/vnd.jupyter.widget-view+json": {
       "model_id": "8440e37d542d412f80847423694fa4bd",
       "version_major": 2,
       "version_minor": 0
      },
      "text/plain": [
       "Box(children=(FloatProgress(value=0.0, max=10000.0), Label(value='')), layout=Layout(align_items='center', dis…"
      ]
     },
     "metadata": {},
     "output_type": "display_data"
    },
    {
     "data": {
      "application/vnd.jupyter.widget-view+json": {
       "model_id": "824e6879829042db8148f4ae14ec185b",
       "version_major": 2,
       "version_minor": 0
      },
      "text/plain": [
       "Box(children=(FloatProgress(value=0.0, max=10000.0), Label(value='')), layout=Layout(align_items='center', dis…"
      ]
     },
     "metadata": {},
     "output_type": "display_data"
    },
    {
     "data": {
      "application/vnd.jupyter.widget-view+json": {
       "model_id": "de90ad071f1a47409aee1c32ab64b36a",
       "version_major": 2,
       "version_minor": 0
      },
      "text/plain": [
       "Box(children=(FloatProgress(value=0.0, max=10000.0), Label(value='')), layout=Layout(align_items='center', dis…"
      ]
     },
     "metadata": {},
     "output_type": "display_data"
    },
    {
     "name": "stdout",
     "output_type": "stream",
     "text": [
      "CPU times: user 45 s, sys: 35.2 s, total: 1min 20s\n",
      "Wall time: 1min 21s\n"
     ]
    }
   ],
   "source": [
    "%%time\n",
    "# case1 water w/ alis and adjacency\n",
    "mBc1env  = SMa.run(wl=wav, water=water1, atm=atm, surf=surf, NBPHOTONS=1e4, env=env,\n",
    "                   sensor=sensor_TOA, NF=1e3, alis_options=alis_options, le=le, RR=1, WEIGHTRR=.01, OUTPUT_LAYERS=3)\n",
    "\n",
    "\n",
    "# case1 water w/ alis and no adjacency\n",
    "mBc1  = SMa.run(wl=wav, water=water1, atm=atm, surf=surf, NBPHOTONS=1e4,\n",
    "                   sensor=sensor_TOA, NF=1e3, alis_options=alis_options, le=le, RR=1, WEIGHTRR=.01, OUTPUT_LAYERS=3)\n",
    "\n",
    "\n",
    "# case2 water w/ alis and adjacency\n",
    "mBc2env  = SMa.run(wl=wav, water=water2, atm=atm, surf=surf, NBPHOTONS=1e4, env=env,\n",
    "                   sensor=sensor_TOA, NF=1e3, alis_options=alis_options, le=le, RR=1, WEIGHTRR=.01, OUTPUT_LAYERS=3)\n",
    "\n",
    "\n",
    "# case2 water w/ alis and no adjacency\n",
    "mBc2  = SMa.run(wl=wav, water=water2, atm=atm, surf=surf, NBPHOTONS=1e4,\n",
    "                   sensor=sensor_TOA, NF=1e3, alis_options=alis_options, le=le, RR=1, WEIGHTRR=.01, OUTPUT_LAYERS=3)"
   ]
  },
  {
   "cell_type": "code",
   "execution_count": 7,
   "id": "2bba10ce-f3e5-413b-9c71-2612b64ef81f",
   "metadata": {},
   "outputs": [
    {
     "data": {
      "image/png": "[encoded data removed]",
      "text/plain": [
       "<Figure size 432x288 with 1 Axes>"
      ]
     },
     "metadata": {
      "needs_background": "light"
     },
     "output_type": "display_data"
    }
   ],
   "source": [
    "## compare case1 and case2 no ENV at TOA\n",
    "\n",
    "lut1 = mBc1 ['I_up (TOA)'].sub({'Zenith angles':Idx(30), 'Azimuth angles':Idx(90)})\n",
    "lut2 = mBc2['I_up (TOA)'].sub({'Zenith angles':Idx(30), 'Azimuth angles':Idx(90)})\n",
    "lut3 = mBc1env ['I_up (TOA)'].sub({'Zenith angles':Idx(30), 'Azimuth angles':Idx(90)})\n",
    "lut4 = mBc2env['I_up (TOA)'].sub({'Zenith angles':Idx(30), 'Azimuth angles':Idx(90)})\n",
    "\n",
    "f = figure()\n",
    "spectrum(lut1, vmin=0, vmax=.2, sub=111,  fig=f, color='k', percent=False, fmt='-') # case1\n",
    "spectrum(lut2, vmin=0, vmax=.2, sub=None, fig=f, color='r', percent=False, fmt='-') # case2\n",
    "spectrum(lut3, vmin=0, vmax=.2, sub=None,  fig=f, color='k', percent=False, fmt='-.') # case1 adjacency\n",
    "spectrum(lut4, vmin=0, vmax=.2, sub=None, fig=f, color='r', percent=False, fmt='-.') # case2 adjacency"
   ]
  },
  {
   "cell_type": "markdown",
   "id": "f3d0456a-2a1e-4f31-852e-3cc458a955c7",
   "metadata": {},
   "source": [
    "## Comments on TOA reflectance\n",
    "\n",
    "- The case1 spectra look reasonable both with and without adjacency\n",
    "- The case2 spectra with adjacency has a large spike around 580nm that doesn't look normal"
   ]
  },
  {
   "cell_type": "code",
   "execution_count": 8,
   "id": "10141bc0-a5b6-446a-8053-5a5738184019",
   "metadata": {},
   "outputs": [
    {
     "data": {
      "image/png": "[encoded data removed]",
      "text/plain": [
       "<Figure size 432x288 with 1 Axes>"
      ]
     },
     "metadata": {
      "needs_background": "light"
     },
     "output_type": "display_data"
    }
   ],
   "source": [
    "## compare case1 and case2 no ENV at BOA\n",
    "\n",
    "lut1 = mBc1 ['I_up (0+)'].sub({'Zenith angles':Idx(30), 'Azimuth angles':Idx(90)})\n",
    "lut2 = mBc2['I_up (0+)'].sub({'Zenith angles':Idx(30), 'Azimuth angles':Idx(90)})\n",
    "lut3 = mBc1env ['I_up (0+)'].sub({'Zenith angles':Idx(30), 'Azimuth angles':Idx(90)})\n",
    "lut4 = mBc2env['I_up (0+)'].sub({'Zenith angles':Idx(30), 'Azimuth angles':Idx(90)})\n",
    "\n",
    "f = figure()\n",
    "spectrum(lut1, vmin=0, vmax=.2, sub=111,  fig=f, color='k', percent=False, fmt='-') # case1\n",
    "spectrum(lut2, vmin=0, vmax=.2, sub=None, fig=f, color='r', percent=False, fmt='-') # case2\n",
    "spectrum(lut3, vmin=0, vmax=.2, sub=None,  fig=f, color='k', percent=False, fmt='-.') # case1 adjacency\n",
    "spectrum(lut4, vmin=0, vmax=.2, sub=None, fig=f, color='r', percent=False, fmt='-.') # case2 adjacency"
   ]
  },
  {
   "cell_type": "markdown",
   "id": "7e15f157-7863-42e6-bc5b-a5013a349581",
   "metadata": {},
   "source": [
    "## Comments on BOA reflectance\n",
    "\n",
    "- Shouldn't water leaving reflectance not be affected by adjacency, as the contribution should solely be due to upwelling radiance?? \n",
    "- Similar abnormal spike around 580nm in the adjacency LUT for case2. \n",
    "- It also seems the red/NIR region is too high compared to the blue. Especially the case1 spectra should have much higher values in the blue than NIR. Is water taken into account well enough?"
   ]
  },
  {
   "cell_type": "code",
   "execution_count": null,
   "id": "d2902481-ddca-43e6-bba9-66ed00c83c75",
   "metadata": {},
   "outputs": [],
   "source": []
  }
 ],
 "metadata": {
  "kernelspec": {
   "display_name": "Python 3 (ipykernel)",
   "language": "python",
   "name": "python3"
  },
  "language_info": {
   "codemirror_mode": {
    "name": "ipython",
    "version": 3
   },
   "file_extension": ".py",
   "mimetype": "text/x-python",
   "name": "python",
   "nbconvert_exporter": "python",
   "pygments_lexer": "ipython3",
   "version": "3.10.4"
  }
 },
 "nbformat": 4,
 "nbformat_minor": 5
}
