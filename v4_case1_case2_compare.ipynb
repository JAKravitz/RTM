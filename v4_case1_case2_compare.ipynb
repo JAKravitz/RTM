{
 "cells": [
  {
   "cell_type": "code",
   "execution_count": 1,
   "id": "4e5eb04c-44ea-444d-90af-9b6fade6dd59",
   "metadata": {
    "ExecuteTime": {
     "end_time": "2022-05-10T13:02:38.007284Z",
     "start_time": "2022-05-10T13:02:29.932057Z"
    }
   },
   "outputs": [
    {
     "name": "stdout",
     "output_type": "stream",
     "text": [
      "%pylab is deprecated, use %matplotlib inline and import the required libraries.\n",
      "Populating the interactive namespace from numpy and matplotlib\n"
     ]
    }
   ],
   "source": [
    "%pylab inline\n",
    "# next 2 lines allow to automatically reload modules that have been changed externally\n",
    "%reload_ext autoreload\n",
    "%autoreload 2\n",
    "import os, sys\n",
    "sys.path.insert(0, '/nobackup/jakravit/smartg-dev/smartg/')\n",
    "from luts.luts import LUT, MLUT, Idx, merge, read_mlut\n",
    "\n",
    "from smartg.albedo import Albedo_spectrum, Albedo_speclib, Albedo_cst\n",
    "from smartg.bandset import BandSet\n",
    "from smartg.smartg import Smartg, Sensor, multi_profiles, reduce_diff\n",
    "from smartg.smartg import RoughSurface, LambSurface, FlatSurface, Environment, multi_profiles\n",
    "from smartg.atmosphere import AtmAFGL, AeroOPAC, CompOPAC, CloudOPAC, diff1, read_phase, Species, trapzinterp\n",
    "from smartg.water import IOP_1, IOP, IOP_profile, IOP_Rw, IOP_base\n",
    "from smartg.reptran import REPTRAN, reduce_reptran\n",
    "#from smartg.kdis import KDIS, reduce_kdis\n",
    "from smartg.tools.tools import SpherIrr, Irr, reduce_Irr\n",
    "from smartg.tools.cdf import ICDF\n",
    "from smartg.tools.phase import integ_phase, calc_iphase\n",
    "\n",
    "from smartg.tools.smartg_view import compare, plot_polar, spectrum , mdesc \n",
    "from smartg.tools.smartg_view import spectrum_view,transect_view,profile_view,phase_view,smartg_view,input_view\n",
    "import warnings\n",
    "\n",
    "from scipy.interpolate import interp1d\n",
    "warnings.filterwarnings(\"ignore\")"
   ]
  },
  {
   "cell_type": "code",
   "execution_count": 2,
   "id": "7851214b-5020-436c-a320-ad46ef2487e4",
   "metadata": {
    "ExecuteTime": {
     "end_time": "2022-05-10T13:02:38.689991Z",
     "start_time": "2022-05-10T13:02:38.010787Z"
    }
   },
   "outputs": [
    {
     "name": "stdout",
     "output_type": "stream",
     "text": [
      "CASE 1 INFO:\n",
      "Chla: 0.563 ug/L\n",
      "Minl: 0.014625739628414677 g/L\n",
      "ag440: 0.08964525121529826 m^-1\n",
      "\n",
      "CASE 2 INFO:\n",
      "Chla: 12.062 ug/L\n",
      "Minl: 3.1160428571428573 g/L\n",
      "ag440: 1.16 m^-1\n"
     ]
    }
   ],
   "source": [
    "import pickle\n",
    "INFO = True\n",
    "WAV = np.linspace(400, 900., num=201, dtype=np.float32)\n",
    "WAV_CDOM = np.arange(240., 900., 2.5, dtype=np.float32)\n",
    "\n",
    "# initiate iop dict\n",
    "# iops, cols, row = build_Case2(phy_library, datamin, datadet, benthic_lib, adj_lib, aero_lib)\n",
    "\n",
    "# dictionary for Case 2 turbid water \n",
    "with open('/nobackup/jakravit/data/iops_test.p','rb') as fp:\n",
    "    iops_case2 = pickle.load(fp)\n",
    "\n",
    "# dictionary for blue Case 1 water\n",
    "with open('/nobackup/jakravit/data/case1_runlist.p','rb') as fp:\n",
    "    case1 = pickle.load(fp)\n",
    "runID1 = '0.563_0.015_0.033_0.032_FShk4FqxnG'\n",
    "iops_case1 = case1[runID1]    \n",
    "\n",
    "if INFO:\n",
    "    print ('CASE 1 INFO:')\n",
    "    print ('Chla: {} ug/L'.format(iops_case1['Phyto']['TotChl']))\n",
    "    print ('Minl: {} g/L'.format(iops_case1['Min']['tot_conc']))\n",
    "    print ('ag440: {} m^-1'.format(iops_case1['CDOM']['a_tot'][80]))\n",
    "    print ('\\nCASE 2 INFO:')\n",
    "    print ('Chla: {} ug/L'.format(iops_case2['Phyto']['TotChl']))\n",
    "    print ('Minl: {} g/L'.format(iops_case2['Min']['Tot_conc']))\n",
    "    print ('ag440: {} m^-1'.format(iops_case2['CDOM']['ag440']))\n",
    "    # print ('Max Depth: {} m'.format(iops_case1['Depth']['Dmax']))\n",
    "    # print ('Water radius: {} km'.format(iops_case1['Adjacency']['water_radius']))\n",
    "    # print ('Dist from shore: {} km'.format(iops_case1['Adjacency']['dist']))"
   ]
  },
  {
   "cell_type": "code",
   "execution_count": 4,
   "id": "48438575-ad01-4e57-9caa-47f4087ec016",
   "metadata": {
    "ExecuteTime": {
     "end_time": "2022-05-10T13:51:02.813661Z",
     "start_time": "2022-05-10T13:51:01.722457Z"
    }
   },
   "outputs": [],
   "source": [
    "from smartg_int_library import *\n",
    "\n",
    "# get mixing IOP's\n",
    "ap1,ac1,bp1,vsf1,angles = mix(iops_case1)\n",
    "ap2,ac2,bp2,vsf2,angles = mix(iops_case2)\n",
    "\n",
    "# wavelength grid/slice for absorption and scattering coefficients\n",
    "# wavelength grid for outputs\n",
    "wavrange = slice(0,200,5)\n",
    "wav      = WAV[wavrange]\n",
    "# wavelength grid/slice for scattering matrices\n",
    "wavrange_vsf = slice(0,200,50)\n",
    "wav_vsf      = WAV[wavrange_vsf]\n",
    "# vertical grids\n",
    "Z    = np.array([0, -1., -2.5, -5.])\n",
    "Z2   = np.array([0., -3., -6, -10.])\n",
    "zeros=np.zeros_like(wav)\n",
    "\n",
    "#IOP's profiles\n",
    "# case 1 lists\n",
    "vsf_list1=[vsf1[:,wavrange_vsf,:], vsf1[:,wavrange_vsf,:], vsf1[:,wavrange_vsf,:], vsf1[:,wavrange_vsf,:] ]\n",
    "bp_list1 = [zeros, bp1[wavrange], bp1[wavrange], bp1[wavrange]]\n",
    "ap_list1 = [zeros, ap1[wavrange], ap1[wavrange], ap1[wavrange]]\n",
    "ac_list1 = [zeros, ac1[wavrange], ac1[wavrange], ac1[wavrange]]\n",
    "#aw_list = [zeros, ww['aw'], ww['aw'], ww['aw']] \n",
    "#bw_list = [zeros, ww['bw'], ww['bw'], ww['bw']] \n",
    "aw_list = None # use SMART-G default pure water absorption\n",
    "bw_list = None # use SMART-G default pure water scattering\n",
    "\n",
    "# case 2 lists\n",
    "vsf_list2=[vsf2[:,wavrange_vsf,:], vsf2[:,wavrange_vsf,:], vsf2[:,wavrange_vsf,:], vsf2[:,wavrange_vsf,:] ]\n",
    "bp_list2 = [zeros, bp2[wavrange], bp2[wavrange], bp2[wavrange]]\n",
    "ap_list2 = [zeros, ap2[wavrange], ap2[wavrange], ap2[wavrange]]\n",
    "ac_list2 = [zeros, ac2[wavrange], ac2[wavrange], ac2[wavrange]]\n",
    "\n",
    "# Albedos speclib library inputs\n",
    "Type = ['Sand', 'Forest']\n",
    "ALB  = [Albedo_speclib('/nobackup/jakravit/data/albedos/rock.sedimentary.sandstone.fine.all.sandstone_7.jhu.becknic.spectrum.txt'),\n",
    "        Albedo_speclib('/nobackup/jakravit/data/albedos/vegetation.tree.betula.lenta.vswir.bele-1-55.ucsb.asd.spectrum.txt')]\n",
    "ALB0 = Albedo_cst(0.05)\n",
    "\n",
    "\n",
    "# dirspec = '/rfs/data/speclib2.0/data/'\n",
    "# Type = ['Sand', 'Forest']\n",
    "# ALB  = [Albedo_speclib(dirspec+'jhu.becknic.rock.sedimentary.sandstone.fine.sandst7.spectrum.txt'),\n",
    "#         Albedo_speclib(dirspec+'jhu.becknic.vegetation.trees.deciduous.solid.decidou.spectrum.txt')]\n",
    "# # Type    = ['Forest', 'Bare soil', 'Grass', 'Snow', 'Sand']\n",
    "# # ALB     = [Albedo_speclib(dirspec+'jhu.becknic.vegetation.trees.deciduous.solid.decidou.spectrum.txt'),\n",
    "# #            Albedo_speclib(dirspec+'jhu.becknic.soil.alfisol.paleustalf.coarse.87P473.spectrum.txt'),\n",
    "# #            Albedo_speclib(dirspec+'jhu.becknic.vegetation.grass.green.solid.gras.spectrum.txt'),\n",
    "# #            Albedo_speclib(dirspec+'jhu.becknic.water.snow.granular.82um.medium.spectrum.txt'),\n",
    "# #            Albedo_speclib(dirspec+'jhu.becknic.rock.sedimentary.sandstone.fine.sandst7.spectrum.txt')]\n",
    "\n",
    "# water MLUT building\n",
    "# VSF truncation at 25 deg\n",
    "\n",
    "# Case 1 water bottom albedo test\n",
    "waterC1Sand5m   = import_iop(ap_list1, bp_list1, ac_list1, vsf_list1, wav, wav_vsf, Z, angles, \n",
    "                    aw_list=aw_list, bw_list=bw_list, ang_trunc=25., ALB=ALB[0])\n",
    "waterC1Sand10m  = import_iop(ap_list1, bp_list1, ac_list1, vsf_list1, wav, wav_vsf, Z2, angles, \n",
    "                    aw_list=aw_list, bw_list=bw_list, ang_trunc=25.,  ALB=ALB[0])\n",
    "waterC1Lamb5m   = import_iop(ap_list1, bp_list1, ac_list1, vsf_list1, wav, wav_vsf, Z2, angles, \n",
    "                    aw_list=aw_list, bw_list=bw_list, ang_trunc=25.,  ALB=ALB0)"
   ]
  },
  {
   "cell_type": "code",
   "execution_count": 7,
   "id": "a86f2f1e",
   "metadata": {
    "ExecuteTime": {
     "end_time": "2022-05-10T13:51:12.179576Z",
     "start_time": "2022-05-10T13:51:11.441018Z"
    }
   },
   "outputs": [
    {
     "name": "stdout",
     "output_type": "stream",
     "text": [
      "<luts.luts.MLUT object at 0x2aaaf604aaa0>\n",
      " Datasets:\n",
      "  [0] T_oc (float32 in [280, 280]), axes=('z_oc',)\n",
      "  [1] phase_oc (float64 in [0, 9.2]), axes=('iphase', 'stk', 'theta_oc')\n",
      "  [2] iphase_oc (int32 in [0, 15]), axes=('wavelength', 'z_oc')\n",
      "  [3] OD_w (float64 in [-28.7, 0]), axes=('wavelength', 'z_oc')\n",
      "  [4] OD_p_oc (float64 in [-0.134, 0]), axes=('wavelength', 'z_oc')\n",
      "  [5] OD_y (float64 in [-1.03, 0]), axes=('wavelength', 'z_oc')\n",
      "  [6] OD_oc (float64 in [-28.7, 0]), axes=('wavelength', 'z_oc')\n",
      "  [7] OD_sca_oc (float64 in [-0.0822, 0]), axes=('wavelength', 'z_oc')\n",
      "  [8] OD_abs_oc (float64 in [-28.7, 0]), axes=('wavelength', 'z_oc')\n",
      "  [9] pine_oc (float64 in [0, 0]), axes=('wavelength', 'z_oc')\n",
      "  [10] pmol_oc (float32 in [0.0348, 1]), axes=('wavelength', 'z_oc')\n",
      "  [11] ssa_oc (float64 in [0.00123, 1]), axes=('wavelength', 'z_oc')\n",
      "  [12] ssa_p_oc (float32 in [0.33, 1]), axes=('wavelength', 'z_oc')\n",
      "  [13] ssa_w (float64 in [4.3e-05, 1]), axes=('wavelength', 'z_oc')\n",
      "  [14] FQY1_oc (float64 in [0, 0]), axes=('wavelength', 'z_oc')\n",
      "  [15] albedo_seafloor (float64 in [0.125, 0.583]), axes=('wavelength',)\n",
      " Axes:\n",
      "  [0] wavelength: 40 values in [400.0, 887.5]\n",
      "  [1] z_oc: 4 values in [0.0, -5.0]\n",
      "  [2] theta_oc: 1801 values in [0.0, 180.0]\n"
     ]
    },
    {
     "data": {
      "text/plain": [
       "<luts.luts.LUT at 0x2aaaf615ab30>"
      ]
     },
     "execution_count": 7,
     "metadata": {},
     "output_type": "execute_result"
    },
    {
     "data": {
      "image/png": "[encoded data removed]",
      "text/plain": [
       "<Figure size 432x288 with 1 Axes>"
      ]
     },
     "metadata": {
      "needs_background": "light"
     },
     "output_type": "display_data"
    },
    {
     "data": {
      "image/png": "[encoded data removed]",
      "text/plain": [
       "<Figure size 432x288 with 1 Axes>"
      ]
     },
     "metadata": {
      "needs_background": "light"
     },
     "output_type": "display_data"
    }
   ],
   "source": [
    "waterC1Sand5m.describe()\n",
    "waterC1Sand5m['OD_abs_oc'].sub()[:,-1].plot()\n",
    "figure()\n",
    "waterC1Sand5m['OD_sca_oc'].sub()[:,-1].plot()"
   ]
  },
  {
   "cell_type": "code",
   "execution_count": 14,
   "id": "f6e0eff6-b15f-4337-b2de-60f8056f9162",
   "metadata": {
    "ExecuteTime": {
     "end_time": "2022-05-10T15:22:19.555289Z",
     "start_time": "2022-05-10T15:22:17.698263Z"
    }
   },
   "outputs": [],
   "source": [
    "# Goal: to simulate an observation from a satellite sensor \n",
    "# for 1 thv and 1 azimuth\n",
    "# with a straight coastline (limit ocean land at x=0, ocean for x <0)\n",
    "# the sensor is looking to a water pixel located at a distance 'dist' from the coastline\n",
    "# we simulate a coastline as being the zone near a big circle, whose radius is 1e6 km\n",
    "# centred on a point located far from the sensor (-1e6 km from the origin )\n",
    "# The interior of the circle is the ocean\n",
    "\n",
    "# Ocean surface\n",
    "surf1 = RoughSurface(WAVE_SHADOW=True, WIND=3.)\n",
    "surf2 = RoughSurface(WAVE_SHADOW=True, WIND=15.)\n",
    "\n",
    "# Land environment\n",
    "D1       = 1.0e6 #(km)\n",
    "D2       = 4\n",
    "# The Environement object creates a disk of ocean surface with radius ENV_SIZE\n",
    "# centred on X0,Y0 , surrounded by lambertian reflector of albedo ALB\n",
    "# env1 : oceanic straight coastline simulation\n",
    "env1     = Environment(ENV=1, \n",
    "                      ENV_SIZE= D1 ,       # radius of the circle with ocean surface condition\n",
    "                      X0= -D1,             # X coordinate of the center of the circle\n",
    "                      Y0= 0,\n",
    "                      ALB=ALB[1] # Lambertian grey albedo of the land zone (forest)\n",
    "                     )\n",
    "# env2 : small water body simulation\n",
    "env2     = Environment(ENV=1, \n",
    "                      ENV_SIZE= D2 ,       # radius of the circle with ocean surface condition\n",
    "                      X0= -D2,             # X coordinate of the center of the circle\n",
    "                      Y0= 0,\n",
    "                      ALB=ALB[1] # Lambertian grey albedo of the land zone (forest)\n",
    "                     )\n",
    "\n",
    "# Distance to coast/shore\n",
    "dist1 = 1\n",
    "dist2 = 10\n",
    "dist3 = .5\n",
    "\n",
    "#Observer at TOA\n",
    "HTOA   = 120.\n",
    "VZA    = 30.\n",
    "VAA    = 90.\n",
    "SZA    = 60.\n",
    "SAA    = 0.\n",
    "dist   = 1 # distance to the coast(km)\n",
    "DeltaH = HTOA   * np.tan(np.radians(VZA))\n",
    "DeltaX = DeltaH * np.cos(np.radians(180-VAA))\n",
    "DeltaY = DeltaH * np.sin(np.radians(180-VAA))\n",
    "sensor_TOA = Sensor(\n",
    "    POSX = -dist + DeltaX,      # Sensor coordinates (in km) (default:origin(0.,0.,0.))\n",
    "    POSY = DeltaY,\n",
    "    POSZ = HTOA,\n",
    "    THDEG= 180-VZA, # Sensor 'Emitting' zenith angle, from 0: Zenith to 180.: Nadir (default:0.)\n",
    "    PHDEG= VAA,     # Sensor 'Emitting' azimuth angle (default:0.)\n",
    "    LOC  = 'ATMOS', # location of sensor (default: (SURF0P, just above surface)\n",
    "    FOV  = 0.,      # Sensor FOV (default 0.)\n",
    "    TYPE = 0        # Sensor type :Radiance (0), Planar flux (1), Spherical Flux (2), (default 0)\n",
    "    )\n",
    "\n",
    "# Observer at BOA (0+)\n",
    "sensor_BOA = Sensor(POSX = -dist, THDEG=180-VZA, PHDEG=VAA, TYPE=0, LOC='ATMOS')\n",
    "# Observer at Top Of Ocean (0-)\n",
    "sensor_TOO = Sensor(POSX = -dist, THDEG=180-VZA, PHDEG=VAA, TYPE=0, LOC='OCEAN')\n",
    "# Sun\n",
    "sun = Sensor(POSZ=HTOA, THDEG=180-SZA, PHDEG=SAA, TYPE=0, LOC='ATMOS')\n",
    "\n",
    "# Atmosphere\n",
    "# to be computed at eh same wavlegnth grid as water IOP's\n",
    "atm = AtmAFGL('afglt', comp=[AeroOPAC('continental_average', 0.2, 550)], pfwav=wav_vsf).calc(wav)"
   ]
  },
  {
   "cell_type": "markdown",
   "id": "6f1686dd",
   "metadata": {},
   "source": [
    "## Smartg modes\n",
    "- Backward is necessary for adjacency because of Horizontal invariance breaking\n",
    "-- Observer is at the sensor (TOA, 0+, 0-, etc...), output is at the TOA for solar geometries!\n",
    "- Backward is possible if no adjacency\n",
    "-- Observer is at the sensor (TOA, 0+, 0-, etc...), output is at the TOA for solar geometries!\n",
    "- Forward is possible if no adjacency\n",
    "-- Solar geometries as inputs\n",
    "-- Local estimates for observations and at observation altitudes (TOA,0+,0-,etc..) using OUTPUT_LAYERS=3"
   ]
  },
  {
   "cell_type": "code",
   "execution_count": 15,
   "id": "203ae4c2-f7e8-4b8a-a0b8-64a49a4736bc",
   "metadata": {
    "ExecuteTime": {
     "end_time": "2022-05-10T15:16:36.407884Z",
     "start_time": "2022-05-10T15:16:33.411071Z"
    }
   },
   "outputs": [],
   "source": [
    "# Backward Local Estimate -> Solar geometries\n",
    "leb = {'th_deg':np.array([SZA]), 'phi_deg':np.array([SAA])}\n",
    "# Forward Local Estimate -> observation geometries\n",
    "lef = {'th_deg':np.array([VZA]), 'phi_deg':np.array([VAA])}\n",
    "\n",
    "alis = True\n",
    "alis_options = {'nlow':-1}\n",
    "SMBa = Smartg(device=0, back=True, alt_pp=True, alis=alis)\n",
    "SMB  = Smartg(device=0, back=True, alt_pp=True)\n",
    "\n",
    "SMFa = Smartg(device=0, back=False, alt_pp=True, alis=alis)\n",
    "SMF  = Smartg(device=0, back=False, alt_pp=True)"
   ]
  },
  {
   "cell_type": "markdown",
   "id": "f4695501",
   "metadata": {},
   "source": [
    "## Case 1"
   ]
  },
  {
   "cell_type": "code",
   "execution_count": 16,
   "id": "d0de9201",
   "metadata": {
    "ExecuteTime": {
     "end_time": "2022-05-10T15:49:04.052676Z",
     "start_time": "2022-05-10T15:48:57.970150Z"
    }
   },
   "outputs": [
    {
     "data": {
      "application/vnd.jupyter.widget-view+json": {
       "model_id": "d821cd385a9f4adab737ced245a11858",
       "version_major": 2,
       "version_minor": 0
      },
      "text/plain": [
       "Box(children=(FloatProgress(value=0.0, max=1000000.0), Label(value='')), layout=Layout(align_items='center', d…"
      ]
     },
     "metadata": {},
     "output_type": "display_data"
    },
    {
     "data": {
      "application/vnd.jupyter.widget-view+json": {
       "model_id": "e653eb6e479a41e3b31a48eb8c4128d4",
       "version_major": 2,
       "version_minor": 0
      },
      "text/plain": [
       "Box(children=(FloatProgress(value=0.0, max=1000000.0), Label(value='')), layout=Layout(align_items='center', d…"
      ]
     },
     "metadata": {},
     "output_type": "display_data"
    },
    {
     "data": {
      "application/vnd.jupyter.widget-view+json": {
       "model_id": "ccd1726d664c47ab89764687ca9e83f7",
       "version_major": 2,
       "version_minor": 0
      },
      "text/plain": [
       "Box(children=(FloatProgress(value=0.0, max=1000000.0), Label(value='')), layout=Layout(align_items='center', d…"
      ]
     },
     "metadata": {},
     "output_type": "display_data"
    },
    {
     "name": "stdout",
     "output_type": "stream",
     "text": [
      "CPU times: user 1.8 s, sys: 1.26 s, total: 3.06 s\n",
      "Wall time: 3.06 s\n"
     ]
    }
   ],
   "source": [
    "%%time\n",
    "# case1 water w/ alis and adjacency : Backward\n",
    "mBc1env  = SMBa.run(wl=wav, water=water1, atm=atm, surf=surf, NBPHOTONS=1e6, env=env, stdev=True,\n",
    "                   sensor=sensor_TOA, NF=1e3, alis_options=alis_options, le=leb, RR=1, WEIGHTRR=.1, OUTPUT_LAYERS=0)\n",
    "\n",
    "# case1 water w/ alis and no adjacency : Backward\n",
    "mBc1  = SMBa.run(wl=wav, water=water1, atm=atm, surf=surf, NBPHOTONS=1e6, env=None, stdev=True,\n",
    "                   sensor=sensor_TOA, NF=1e3, alis_options=alis_options, le=leb, RR=1, WEIGHTRR=.1, OUTPUT_LAYERS=0)\n",
    "\n",
    "# case1 water w/ alis and no adjacency : Forward\n",
    "mFc1  = SMFa.run(wl=wav, water=water1, atm=atm, surf=surf, NBPHOTONS=1e6, stdev=True,\n",
    "                   sensor=sun, NF=1e3, alis_options=alis_options, le=lef, RR=1, WEIGHTRR=.1, OUTPUT_LAYERS=3)"
   ]
  },
  {
   "cell_type": "code",
   "execution_count": 17,
   "id": "b4739393",
   "metadata": {
    "ExecuteTime": {
     "end_time": "2022-05-10T15:49:40.972227Z",
     "start_time": "2022-05-10T15:49:40.656307Z"
    }
   },
   "outputs": [
    {
     "data": {
      "text/plain": [
       "<ErrorbarContainer object of 3 artists>"
      ]
     },
     "execution_count": 17,
     "metadata": {},
     "output_type": "execute_result"
    },
    {
     "data": {
      "image/png": "[encoded data removed]",
      "text/plain": [
       "<Figure size 432x288 with 1 Axes>"
      ]
     },
     "metadata": {
      "needs_background": "light"
     },
     "output_type": "display_data"
    }
   ],
   "source": [
    "lut1 = mBc1 ['I_up (TOA)'].sub()[:,0,0]\n",
    "err1 = mBc1 ['I_stdev_up (TOA)'].sub()[:,0,0]\n",
    "\n",
    "lut2 = mBc1env ['I_up (TOA)'].sub()[:,0,0]\n",
    "err2 = mBc1env ['I_stdev_up (TOA)'].sub()[:,0,0]\n",
    "\n",
    "lut3 = mFc1 ['I_up (TOA)'].sub()[:,0,0]\n",
    "err3 = mFc1 ['I_stdev_up (TOA)'].sub()[:,0,0]\n",
    "#------------\n",
    "errorbar(wav, lut1.data, yerr=err1.data, fmt='k-') # Backward no adjacency\n",
    "errorbar(wav, lut2.data, yerr=err2.data, fmt='k:') # Backward adjacency\n",
    "errorbar(wav, lut3.data, yerr=err3.data, fmt='k.') # Forward  no adjacency"
   ]
  },
  {
   "cell_type": "markdown",
   "id": "8d36505b",
   "metadata": {},
   "source": [
    "### Other Levels\n",
    "- Forward no adjacency"
   ]
  },
  {
   "cell_type": "markdown",
   "id": "728c631b",
   "metadata": {},
   "source": [
    "#### 0+ : including sun and sky glint"
   ]
  },
  {
   "cell_type": "code",
   "execution_count": 18,
   "id": "23f6267b",
   "metadata": {
    "ExecuteTime": {
     "end_time": "2022-05-10T15:25:00.921071Z",
     "start_time": "2022-05-10T15:25:00.645674Z"
    }
   },
   "outputs": [
    {
     "data": {
      "text/plain": [
       "(0.0, 0.025)"
      ]
     },
     "execution_count": 18,
     "metadata": {},
     "output_type": "execute_result"
    },
    {
     "data": {
      "image/png": "[encoded data removed]",
      "text/plain": [
       "<Figure size 432x288 with 1 Axes>"
      ]
     },
     "metadata": {
      "needs_background": "light"
     },
     "output_type": "display_data"
    }
   ],
   "source": [
    "## BOA (forward sim so no adjacency)\n",
    "lut2 = mFc1 ['I_up (0+)'].sub()[:,0,0]\n",
    "err2 = mFc1 ['I_stdev_up (0+)'].sub()[:,0,0]\n",
    "errorbar(wav, lut2.data, yerr=err2.data, fmt='b.') # Forward  no adjacency\n",
    "ylim(0,0.025)"
   ]
  },
  {
   "cell_type": "markdown",
   "id": "33bd944d",
   "metadata": {},
   "source": [
    "#### 0- "
   ]
  },
  {
   "cell_type": "code",
   "execution_count": 19,
   "id": "963c122b",
   "metadata": {
    "ExecuteTime": {
     "end_time": "2022-05-10T15:25:04.678738Z",
     "start_time": "2022-05-10T15:25:04.400752Z"
    }
   },
   "outputs": [
    {
     "data": {
      "text/plain": [
       "(0.0, 0.025)"
      ]
     },
     "execution_count": 19,
     "metadata": {},
     "output_type": "execute_result"
    },
    {
     "data": {
      "image/png": "[encoded data removed]",
      "text/plain": [
       "<Figure size 432x288 with 1 Axes>"
      ]
     },
     "metadata": {
      "needs_background": "light"
     },
     "output_type": "display_data"
    }
   ],
   "source": [
    "lut2 = mFc1 ['I_up (0-)'].sub()[:,0,0]\n",
    "err2 = mFc1 ['I_stdev_up (0-)'].sub()[:,0,0]\n",
    "errorbar(wav, lut2.data, yerr=err2.data, fmt='c.') # Forward  no adjacency\n",
    "ylim(0,0.025)"
   ]
  },
  {
   "cell_type": "markdown",
   "id": "1822e02c",
   "metadata": {},
   "source": [
    "### Other Levels\n",
    "- Backward"
   ]
  },
  {
   "cell_type": "markdown",
   "id": "2477c4f7",
   "metadata": {},
   "source": [
    "#### 0+"
   ]
  },
  {
   "cell_type": "code",
   "execution_count": 20,
   "id": "9b525bce",
   "metadata": {
    "ExecuteTime": {
     "end_time": "2022-05-10T15:59:32.470182Z",
     "start_time": "2022-05-10T15:59:29.412926Z"
    }
   },
   "outputs": [
    {
     "data": {
      "application/vnd.jupyter.widget-view+json": {
       "model_id": "70b2c3fbcc454995bcb11b40dcf67be3",
       "version_major": 2,
       "version_minor": 0
      },
      "text/plain": [
       "Box(children=(FloatProgress(value=0.0, max=1000000.0), Label(value='')), layout=Layout(align_items='center', d…"
      ]
     },
     "metadata": {},
     "output_type": "display_data"
    },
    {
     "data": {
      "application/vnd.jupyter.widget-view+json": {
       "model_id": "d1caed1421924d65991308bc9ebc669e",
       "version_major": 2,
       "version_minor": 0
      },
      "text/plain": [
       "Box(children=(FloatProgress(value=0.0, max=1000000.0), Label(value='')), layout=Layout(align_items='center', d…"
      ]
     },
     "metadata": {},
     "output_type": "display_data"
    },
    {
     "name": "stdout",
     "output_type": "stream",
     "text": [
      "CPU times: user 1.07 s, sys: 785 ms, total: 1.86 s\n",
      "Wall time: 1.85 s\n"
     ]
    }
   ],
   "source": [
    "%%time\n",
    "# case1 water w/ alis and adjacency\n",
    "mBOAc1env  = SMBa.run(wl=wav, water=water1, atm=atm, surf=surf, NBPHOTONS=1e6, env=env, stdev=True,\n",
    "                   sensor=sensor_BOA, NF=1e3, alis_options=alis_options, le=leb, RR=1, WEIGHTRR=.1, OUTPUT_LAYERS=0)\n",
    "\n",
    "\n",
    "# case1 water w/ alis and no adjacency\n",
    "mBOAc1  = SMBa.run(wl=wav, water=water1, atm=atm, surf=surf, NBPHOTONS=1e6, stdev=True,\n",
    "                   sensor=sensor_BOA, NF=1e3, alis_options=alis_options, le=leb, RR=1, WEIGHTRR=.1, OUTPUT_LAYERS=0)"
   ]
  },
  {
   "cell_type": "code",
   "execution_count": 21,
   "id": "fad369e4",
   "metadata": {
    "ExecuteTime": {
     "end_time": "2022-05-10T16:00:27.790559Z",
     "start_time": "2022-05-10T16:00:26.557140Z"
    }
   },
   "outputs": [
    {
     "data": {
      "text/plain": [
       "(0.0, 0.025)"
      ]
     },
     "execution_count": 21,
     "metadata": {},
     "output_type": "execute_result"
    },
    {
     "data": {
      "image/png": "[encoded data removed]",
      "text/plain": [
       "<Figure size 432x288 with 1 Axes>"
      ]
     },
     "metadata": {
      "needs_background": "light"
     },
     "output_type": "display_data"
    }
   ],
   "source": [
    "lut1 = mBOAc1 ['I_up (TOA)'].sub()[:,0,0]\n",
    "err1 = mBOAc1 ['I_stdev_up (TOA)'].sub()[:,0,0]\n",
    "lut2 = mBOAc1env ['I_up (TOA)'].sub()[:,0,0]\n",
    "err2 = mBOAc1env ['I_stdev_up (TOA)'].sub()[:,0,0]\n",
    "#------------\n",
    "errorbar(wav, lut1.data, yerr=err1.data, fmt='b-') # Backward no adjacency\n",
    "errorbar(wav, lut2.data, yerr=err2.data, fmt='b:') # Backward adjacency\n",
    "ylim(0,0.025)"
   ]
  },
  {
   "cell_type": "markdown",
   "id": "77c62834",
   "metadata": {},
   "source": [
    "#### 0-"
   ]
  },
  {
   "cell_type": "code",
   "execution_count": 22,
   "id": "c25b1c34",
   "metadata": {
    "ExecuteTime": {
     "end_time": "2022-05-10T15:53:45.665032Z",
     "start_time": "2022-05-10T15:53:42.817614Z"
    }
   },
   "outputs": [
    {
     "data": {
      "application/vnd.jupyter.widget-view+json": {
       "model_id": "65307bc1642643be8b490d096d653cc6",
       "version_major": 2,
       "version_minor": 0
      },
      "text/plain": [
       "Box(children=(FloatProgress(value=0.0, max=1000000.0), Label(value='')), layout=Layout(align_items='center', d…"
      ]
     },
     "metadata": {},
     "output_type": "display_data"
    },
    {
     "data": {
      "application/vnd.jupyter.widget-view+json": {
       "model_id": "ace0b48f4d1047c48eb0548b41c830d1",
       "version_major": 2,
       "version_minor": 0
      },
      "text/plain": [
       "Box(children=(FloatProgress(value=0.0, max=1000000.0), Label(value='')), layout=Layout(align_items='center', d…"
      ]
     },
     "metadata": {},
     "output_type": "display_data"
    },
    {
     "name": "stdout",
     "output_type": "stream",
     "text": [
      "CPU times: user 1.09 s, sys: 732 ms, total: 1.82 s\n",
      "Wall time: 1.82 s\n"
     ]
    }
   ],
   "source": [
    "%%time\n",
    "# case1 water w/ alis and adjacency\n",
    "mBOOc1env  = SMBa.run(wl=wav, water=water1, atm=atm, surf=surf, NBPHOTONS=1e6, env=env, stdev=True,\n",
    "                   sensor=sensor_TOO, NF=1e3, alis_options=alis_options, le=leb, RR=1, WEIGHTRR=.1, OUTPUT_LAYERS=0)\n",
    "\n",
    "\n",
    "# case1 water w/ alis and no adjacency\n",
    "mBOOc1  = SMBa.run(wl=wav, water=water1, atm=atm, surf=surf, NBPHOTONS=1e6, stdev=True,\n",
    "                   sensor=sensor_TOO, NF=1e3, alis_options=alis_options, le=leb, RR=1, WEIGHTRR=.1, OUTPUT_LAYERS=0)"
   ]
  },
  {
   "cell_type": "code",
   "execution_count": 23,
   "id": "031dacca",
   "metadata": {
    "ExecuteTime": {
     "end_time": "2022-05-10T16:00:36.292965Z",
     "start_time": "2022-05-10T16:00:35.957036Z"
    }
   },
   "outputs": [
    {
     "data": {
      "text/plain": [
       "(0.0, 0.025)"
      ]
     },
     "execution_count": 23,
     "metadata": {},
     "output_type": "execute_result"
    },
    {
     "data": {
      "image/png": "[encoded data removed]",
      "text/plain": [
       "<Figure size 432x288 with 1 Axes>"
      ]
     },
     "metadata": {
      "needs_background": "light"
     },
     "output_type": "display_data"
    }
   ],
   "source": [
    "lut1 = mBOOc1 ['I_up (TOA)'].sub()[:,0,0]\n",
    "err1 = mBOOc1 ['I_stdev_up (TOA)'].sub()[:,0,0]\n",
    "lut2 = mBOOc1env ['I_up (TOA)'].sub()[:,0,0]\n",
    "err2 = mBOOc1env ['I_stdev_up (TOA)'].sub()[:,0,0]\n",
    "#------------\n",
    "errorbar(wav, lut1.data, yerr=err1.data, fmt='c-') # Backward no adjacency\n",
    "errorbar(wav, lut2.data, yerr=err2.data, fmt='c:') # Backward adjacency\n",
    "ylim(0,0.025)"
   ]
  },
  {
   "cell_type": "markdown",
   "id": "17f4ac6d",
   "metadata": {},
   "source": [
    "## Case 2"
   ]
  },
  {
   "cell_type": "code",
   "execution_count": 24,
   "id": "2e23e37b",
   "metadata": {
    "ExecuteTime": {
     "end_time": "2022-05-10T16:03:51.474701Z",
     "start_time": "2022-05-10T16:03:42.759781Z"
    }
   },
   "outputs": [
    {
     "data": {
      "application/vnd.jupyter.widget-view+json": {
       "model_id": "e69649f605b34689b688a2972ecca6bc",
       "version_major": 2,
       "version_minor": 0
      },
      "text/plain": [
       "Box(children=(FloatProgress(value=0.0, max=100000.0), Label(value='')), layout=Layout(align_items='center', di…"
      ]
     },
     "metadata": {},
     "output_type": "display_data"
    },
    {
     "data": {
      "application/vnd.jupyter.widget-view+json": {
       "model_id": "ccff768853dc4bbeae92bf4585c75a8f",
       "version_major": 2,
       "version_minor": 0
      },
      "text/plain": [
       "Box(children=(FloatProgress(value=0.0, max=100000.0), Label(value='')), layout=Layout(align_items='center', di…"
      ]
     },
     "metadata": {},
     "output_type": "display_data"
    },
    {
     "data": {
      "application/vnd.jupyter.widget-view+json": {
       "model_id": "b6aa4dbaac8940148bb8b6bd4004b044",
       "version_major": 2,
       "version_minor": 0
      },
      "text/plain": [
       "Box(children=(FloatProgress(value=0.0, max=100000.0), Label(value='')), layout=Layout(align_items='center', di…"
      ]
     },
     "metadata": {},
     "output_type": "display_data"
    },
    {
     "name": "stdout",
     "output_type": "stream",
     "text": [
      "CPU times: user 3.73 s, sys: 2.76 s, total: 6.48 s\n",
      "Wall time: 6.49 s\n"
     ]
    }
   ],
   "source": [
    "%%time\n",
    "# case2 water w/ alis and adjacency : Backward\n",
    "mBc2env  = SMBa.run(wl=wav, water=water2, atm=atm, surf=surf, NBPHOTONS=1e5, env=env, stdev=True,\n",
    "                   sensor=sensor_TOA, NF=1e3, alis_options=alis_options, le=leb, RR=1, WEIGHTRR=.1, OUTPUT_LAYERS=0)\n",
    "\n",
    "# case2 water w/ alis and no adjacency : Backward\n",
    "mBc2  = SMBa.run(wl=wav, water=water2, atm=atm, surf=surf, NBPHOTONS=1e5, env=None, stdev=True,\n",
    "                   sensor=sensor_TOA, NF=1e3, alis_options=alis_options, le=leb, RR=1, WEIGHTRR=.1, OUTPUT_LAYERS=0)\n",
    "\n",
    "# case2 water w/ alis and no adjacency : Forward\n",
    "mFc2  = SMFa.run(wl=wav, water=water2, atm=atm, surf=surf, NBPHOTONS=1e5, env=None, stdev=True, \n",
    "                   sensor=sun, NF=1e3, alis_options=alis_options, le=lef, RR=1, WEIGHTRR=.1, OUTPUT_LAYERS=3)"
   ]
  },
  {
   "cell_type": "code",
   "execution_count": 35,
   "id": "ef5894eb",
   "metadata": {
    "ExecuteTime": {
     "end_time": "2022-05-10T16:03:55.149961Z",
     "start_time": "2022-05-10T16:03:54.940880Z"
    }
   },
   "outputs": [
    {
     "data": {
      "text/plain": [
       "<ErrorbarContainer object of 3 artists>"
      ]
     },
     "execution_count": 35,
     "metadata": {},
     "output_type": "execute_result"
    },
    {
     "data": {
      "image/png": "[encoded data removed]",
      "text/plain": [
       "<Figure size 432x288 with 1 Axes>"
      ]
     },
     "metadata": {
      "needs_background": "light"
     },
     "output_type": "display_data"
    }
   ],
   "source": [
    "lut1 = mBc2 ['I_up (TOA)'].sub()[:,0,0]\n",
    "err1 = mBc2 ['I_stdev_up (TOA)'].sub()[:,0,0]\n",
    "lut2 = mBc2env ['I_up (TOA)'].sub()[:,0,0]\n",
    "err2 = mBc2env ['I_stdev_up (TOA)'].sub()[:,0,0]\n",
    "lut3 = mFc2 ['I_up (TOA)'].sub()[:,0,0]\n",
    "err3 = mFc2 ['I_stdev_up (TOA)'].sub()[:,0,0]\n",
    "#------------\n",
    "errorbar(wav, lut1.data, yerr=err1.data, fmt='c-') # Backward no adjacency\n",
    "errorbar(wav, lut2.data, yerr=err2.data, fmt='c:') # Backward adjacency\n",
    "errorbar(wav, lut3.data, yerr=err3.data, fmt='b-') # Forward  no adjacency"
   ]
  },
  {
   "cell_type": "code",
   "execution_count": 31,
   "id": "10141bc0-a5b6-446a-8053-5a5738184019",
   "metadata": {},
   "outputs": [
    {
     "data": {
      "application/vnd.jupyter.widget-view+json": {
       "model_id": "2b4b063110c94955947d0bb75c4b68e0",
       "version_major": 2,
       "version_minor": 0
      },
      "text/plain": [
       "Box(children=(FloatProgress(value=0.0, max=1000000.0), Label(value='')), layout=Layout(align_items='center', d…"
      ]
     },
     "metadata": {},
     "output_type": "display_data"
    },
    {
     "data": {
      "application/vnd.jupyter.widget-view+json": {
       "model_id": "6311fb748e8c41a1b05581bc08964d52",
       "version_major": 2,
       "version_minor": 0
      },
      "text/plain": [
       "Box(children=(FloatProgress(value=0.0, max=1000000.0), Label(value='')), layout=Layout(align_items='center', d…"
      ]
     },
     "metadata": {},
     "output_type": "display_data"
    },
    {
     "data": {
      "application/vnd.jupyter.widget-view+json": {
       "model_id": "eb5ebe5de9b844a1baf4b4278f82b9a7",
       "version_major": 2,
       "version_minor": 0
      },
      "text/plain": [
       "Box(children=(FloatProgress(value=0.0, max=1000000.0), Label(value='')), layout=Layout(align_items='center', d…"
      ]
     },
     "metadata": {},
     "output_type": "display_data"
    },
    {
     "name": "stdout",
     "output_type": "stream",
     "text": [
      "CPU times: user 20.1 s, sys: 16 s, total: 36.1 s\n",
      "Wall time: 36.2 s\n"
     ]
    }
   ],
   "source": [
    "%%time\n",
    "## CASE 2 backward sims\n",
    "\n",
    "# case2 water w/ alis and adjacency\n",
    "mBOAc2env  = SMBa.run(wl=wav, water=water2, atm=atm, surf=surf, NBPHOTONS=1e6, env=env, stdev=True,\n",
    "                   sensor=sensor_BOA, NF=1e3, alis_options=alis_options, le=leb, RR=1, WEIGHTRR=.1, OUTPUT_LAYERS=0)\n",
    "\n",
    "# case2 water w/ alis and no adjacency\n",
    "mBOAc2  = SMBa.run(wl=wav, water=water2, atm=atm, surf=surf, NBPHOTONS=1e6, stdev=True,\n",
    "                   sensor=sensor_BOA, NF=1e3, alis_options=alis_options, le=leb, RR=1, WEIGHTRR=.1, OUTPUT_LAYERS=0)\n",
    "\n",
    "## CASE 2 forward sim\n",
    "\n",
    "# case2 water w/ alis and no adjacency : Forward\n",
    "mFc2  = SMFa.run(wl=wav, water=water2, atm=atm, surf=surf, NBPHOTONS=1e6, stdev=True,\n",
    "                   sensor=sun, NF=1e3, alis_options=alis_options, le=lef, RR=1, WEIGHTRR=.1, OUTPUT_LAYERS=3)"
   ]
  },
  {
   "cell_type": "code",
   "execution_count": 33,
   "id": "6e8c30b7-b073-467f-872d-5b49bf020360",
   "metadata": {},
   "outputs": [
    {
     "data": {
      "text/plain": [
       "(0.0, 0.08)"
      ]
     },
     "execution_count": 33,
     "metadata": {},
     "output_type": "execute_result"
    },
    {
     "data": {
      "image/png": "[encoded data removed]",
      "text/plain": [
       "<Figure size 432x288 with 1 Axes>"
      ]
     },
     "metadata": {
      "needs_background": "light"
     },
     "output_type": "display_data"
    }
   ],
   "source": [
    "lut1 = mBOAc2 ['I_up (TOA)'].sub()[:,0,0]\n",
    "err1 = mBOAc2 ['I_stdev_up (TOA)'].sub()[:,0,0]\n",
    "lut2 = mBOAc2env ['I_up (TOA)'].sub()[:,0,0]\n",
    "err2 = mBOAc2env ['I_stdev_up (TOA)'].sub()[:,0,0]\n",
    "#------------\n",
    "errorbar(wav, lut1.data, yerr=err1.data, fmt='c-') # Backward no adjacency\n",
    "errorbar(wav, lut2.data, yerr=err2.data, fmt='c:') # Backward adjacency\n",
    "ylim(0,0.08)\n",
    "\n",
    "## BOA (forward sim so no adjacency)\n",
    "lut2 = mFc2 ['I_up (0+)'].sub()[:,0,0]\n",
    "err2 = mFc2 ['I_stdev_up (0+)'].sub()[:,0,0]\n",
    "errorbar(wav, lut2.data, yerr=err2.data, fmt='b-') # Forward  no adjacency\n",
    "ylim(0,0.08)"
   ]
  },
  {
   "cell_type": "code",
   "execution_count": 52,
   "id": "1a9e5298",
   "metadata": {
    "ExecuteTime": {
     "end_time": "2022-05-10T08:51:32.421755Z",
     "start_time": "2022-05-10T08:51:28.136175Z"
    }
   },
   "outputs": [
    {
     "data": {
      "application/vnd.jupyter.widget-view+json": {
       "model_id": "6793ab6a523940d39c592dc639381ca2",
       "version_major": 2,
       "version_minor": 0
      },
      "text/plain": [
       "Box(children=(FloatProgress(value=0.0, max=100000.0), Label(value='')), layout=Layout(align_items='center', di…"
      ]
     },
     "metadata": {},
     "output_type": "display_data"
    },
    {
     "data": {
      "application/vnd.jupyter.widget-view+json": {
       "model_id": "5b751bf01e5b42f5b398de4ef7d4b64d",
       "version_major": 2,
       "version_minor": 0
      },
      "text/plain": [
       "Box(children=(FloatProgress(value=0.0, max=100000.0), Label(value='')), layout=Layout(align_items='center', di…"
      ]
     },
     "metadata": {},
     "output_type": "display_data"
    },
    {
     "name": "stdout",
     "output_type": "stream",
     "text": [
      "CPU times: user 1.76 s, sys: 1.67 s, total: 3.42 s\n",
      "Wall time: 3 s\n"
     ]
    }
   ],
   "source": [
    "%%time\n",
    "# case1 water w/ alis and adjacency\n",
    "mBOAc1env  = SMa.run(wl=wav, water=water1, atm=atm, surf=surf, NBPHOTONS=1e5, env=env,\n",
    "                   sensor=sensor_TOO, NF=1e3, alis_options=alis_options, le=le, RR=1, WEIGHTRR=.1, OUTPUT_LAYERS=0)\n",
    "\n",
    "\n",
    "# case1 water w/ alis and no adjacency\n",
    "mBOAc1  = SMa.run(wl=wav, water=water1, atm=atm, surf=surf, NBPHOTONS=1e5,\n",
    "                   sensor=sensor_TOO, NF=1e3, alis_options=alis_options, le=le, RR=1, WEIGHTRR=.1, OUTPUT_LAYERS=0)"
   ]
  },
  {
   "cell_type": "code",
   "execution_count": 54,
   "id": "4099f318",
   "metadata": {
    "ExecuteTime": {
     "end_time": "2022-05-10T09:29:40.223899Z",
     "start_time": "2022-05-10T09:28:19.479745Z"
    }
   },
   "outputs": [
    {
     "data": {
      "application/vnd.jupyter.widget-view+json": {
       "model_id": "01f8fb7defa54cf1be87b7c98cced35c",
       "version_major": 2,
       "version_minor": 0
      },
      "text/plain": [
       "Box(children=(FloatProgress(value=0.0, max=10000.0), Label(value='')), layout=Layout(align_items='center', dis…"
      ]
     },
     "metadata": {},
     "output_type": "display_data"
    },
    {
     "data": {
      "application/vnd.jupyter.widget-view+json": {
       "model_id": "c382fbbf90f1497d9d142b8c7adf4ce2",
       "version_major": 2,
       "version_minor": 0
      },
      "text/plain": [
       "Box(children=(FloatProgress(value=0.0, max=10000.0), Label(value='')), layout=Layout(align_items='center', dis…"
      ]
     },
     "metadata": {},
     "output_type": "display_data"
    }
   ],
   "source": [
    "# case2 water w/ alis and adjacency\n",
    "mBOAc2env  = SMa.run(wl=wav, water=water2, atm=atm, surf=surf, NBPHOTONS=1e4, env=env,\n",
    "                   sensor=sensor_TOO, NF=1e3, alis_options=alis_options, le=le, RR=1, WEIGHTRR=.1, OUTPUT_LAYERS=0)\n",
    "\n",
    "\n",
    "# case2 water w/ alis and no adjacency\n",
    "mBOAc2  = SMa.run(wl=wav, water=water2, atm=atm, surf=surf, NBPHOTONS=1e4,\n",
    "                   sensor=sensor_TOO, NF=1e3, alis_options=alis_options, le=le, RR=1, WEIGHTRR=.1, OUTPUT_LAYERS=0)"
   ]
  },
  {
   "cell_type": "code",
   "execution_count": 55,
   "id": "1decdbc6",
   "metadata": {
    "ExecuteTime": {
     "end_time": "2022-05-10T09:30:15.114560Z",
     "start_time": "2022-05-10T09:30:13.464079Z"
    }
   },
   "outputs": [
    {
     "data": {
      "image/png": "[encoded data removed]",
      "text/plain": [
       "<Figure size 432x288 with 1 Axes>"
      ]
     },
     "metadata": {
      "needs_background": "light"
     },
     "output_type": "display_data"
    }
   ],
   "source": [
    "## compare case1 and case2 no ENV at BOA\n",
    "\n",
    "lut1 = mBOAc1 ['I_up (TOA)'].sub({'Zenith angles':Idx(30), 'Azimuth angles':Idx(90)})\n",
    "lut2 = mBOAc2['I_up (TOA)'].sub({'Zenith angles':Idx(30), 'Azimuth angles':Idx(90)})\n",
    "lut3 = mBOAc1env ['I_up (TOA)'].sub({'Zenith angles':Idx(30), 'Azimuth angles':Idx(90)})\n",
    "lut4 = mBOAc2env['I_up (TOA)'].sub({'Zenith angles':Idx(30), 'Azimuth angles':Idx(90)})\n",
    "\n",
    "f = figure()\n",
    "spectrum(lut1, vmin=0, vmax=.2, sub=111,  fig=f, color='k', percent=False, fmt='-') # case1\n",
    "spectrum(lut2, vmin=0, vmax=.2, sub=None, fig=f, color='r', percent=False, fmt='-') # case2\n",
    "spectrum(lut3, vmin=0, vmax=.2, sub=None,  fig=f, color='k', percent=False, fmt='-.') # case1 adjacency\n",
    "spectrum(lut4, vmin=0, vmax=.2, sub=None, fig=f, color='r', percent=False, fmt='-.') # case2 adjacency"
   ]
  },
  {
   "cell_type": "code",
   "execution_count": 56,
   "id": "e6d37220",
   "metadata": {
    "ExecuteTime": {
     "end_time": "2022-05-10T09:30:22.675738Z",
     "start_time": "2022-05-10T09:30:22.433533Z"
    }
   },
   "outputs": [
    {
     "data": {
      "image/png": "[encoded data removed]",
      "text/plain": [
       "<Figure size 432x288 with 1 Axes>"
      ]
     },
     "metadata": {
      "needs_background": "light"
     },
     "output_type": "display_data"
    }
   ],
   "source": [
    "## compare case1 and case2 no ENV at BOA\n",
    "\n",
    "lut1 = mBOAc1 ['I_up (TOA)'].sub({'Zenith angles':Idx(30), 'Azimuth angles':Idx(90)})\n",
    "lut2 = mBOAc2['I_up (TOA)'].sub({'Zenith angles':Idx(30), 'Azimuth angles':Idx(90)})\n",
    "lut3 = mBOAc1env ['I_up (TOA)'].sub({'Zenith angles':Idx(30), 'Azimuth angles':Idx(90)})\n",
    "lut4 = mBOAc2env['I_up (TOA)'].sub({'Zenith angles':Idx(30), 'Azimuth angles':Idx(90)})\n",
    "\n",
    "f = figure()\n",
    "spectrum(lut1, vmin=0, vmax=.2, sub=111,  fig=f, color='k', percent=False, fmt='-') # case1\n",
    "spectrum(lut2, vmin=0, vmax=.2, sub=None, fig=f, color='r', percent=False, fmt='-') # case2\n",
    "spectrum(lut3, vmin=0, vmax=.2, sub=None,  fig=f, color='k', percent=False, fmt='-.') # case1 adjacency\n",
    "spectrum(lut4, vmin=0, vmax=.2, sub=None, fig=f, color='r', percent=False, fmt='-.') # case2 adjacency"
   ]
  },
  {
   "cell_type": "markdown",
   "id": "7e15f157-7863-42e6-bc5b-a5013a349581",
   "metadata": {},
   "source": [
    "## Comments on BOA reflectance\n",
    "\n",
    "- Shouldn't water leaving reflectance not be affected by adjacency, as the contribution should solely be due to upwelling radiance?? \n",
    "- Similar abnormal spike around 580nm in the adjacency LUT for case2. \n",
    "- It also seems the red/NIR region is too high compared to the blue. Especially the case1 spectra should have much higher values in the blue than NIR. Is water taken into account well enough?"
   ]
  },
  {
   "cell_type": "code",
   "execution_count": null,
   "id": "d2902481-ddca-43e6-bba9-66ed00c83c75",
   "metadata": {},
   "outputs": [],
   "source": []
  }
 ],
 "metadata": {
  "hide_input": false,
  "kernelspec": {
   "display_name": "Python 3 (ipykernel)",
   "language": "python",
   "name": "python3"
  },
  "language_info": {
   "codemirror_mode": {
    "name": "ipython",
    "version": 3
   },
   "file_extension": ".py",
   "mimetype": "text/x-python",
   "name": "python",
   "nbconvert_exporter": "python",
   "pygments_lexer": "ipython3",
   "version": "3.10.4"
  },
  "toc": {
   "colors": {
    "hover_highlight": "#DAA520",
    "navigate_num": "#000000",
    "navigate_text": "#333333",
    "running_highlight": "#FF0000",
    "selected_highlight": "#FFD700",
    "sidebar_border": "#EEEEEE",
    "wrapper_background": "#FFFFFF"
   },
   "moveMenuLeft": true,
   "nav_menu": {},
   "navigate_menu": true,
   "number_sections": true,
   "sideBar": true,
   "threshold": 4,
   "toc_cell": false,
   "toc_section_display": "block",
   "toc_window_display": false,
   "widenNotebook": false
  }
 },
 "nbformat": 4,
 "nbformat_minor": 5
}
