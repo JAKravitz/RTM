{
 "cells": [
  {
   "cell_type": "code",
   "execution_count": 1,
   "id": "420ab689-1d5c-4ddb-a803-f7be3d80505f",
   "metadata": {},
   "outputs": [
    {
     "name": "stdout",
     "output_type": "stream",
     "text": [
      "%pylab is deprecated, use %matplotlib inline and import the required libraries.\n",
      "Populating the interactive namespace from numpy and matplotlib\n"
     ]
    }
   ],
   "source": [
    "%pylab inline\n",
    "# next 2 lines allow to automatically reload modules that have been changed externally\n",
    "%reload_ext autoreload\n",
    "%autoreload 2\n",
    "import os, sys\n",
    "sys.path.insert(0, '/nobackup/jakravit/smartg-dev/smartg/')\n",
    "from luts.luts import LUT, MLUT, Idx, merge, read_mlut\n",
    "\n",
    "from smartg.albedo import Albedo_spectrum, Albedo_speclib, Albedo_cst\n",
    "from smartg.bandset import BandSet\n",
    "from smartg.smartg import Smartg, Sensor, multi_profiles, reduce_diff\n",
    "from smartg.smartg import RoughSurface, LambSurface, FlatSurface, Environment, multi_profiles\n",
    "from smartg.atmosphere import AtmAFGL, AeroOPAC, CompOPAC, CloudOPAC, diff1, read_phase, Species, trapzinterp\n",
    "from smartg.water import IOP_1, IOP, IOP_profile, IOP_Rw, IOP_base\n",
    "from smartg.reptran import REPTRAN, reduce_reptran\n",
    "#from smartg.kdis import KDIS, reduce_kdis\n",
    "from smartg.tools.tools import SpherIrr, Irr, reduce_Irr\n",
    "from smartg.tools.cdf import ICDF\n",
    "from smartg.tools.phase import integ_phase, calc_iphase\n",
    "\n",
    "from smartg.tools.smartg_view import compare, plot_polar, spectrum , mdesc \n",
    "from smartg.tools.smartg_view import spectrum_view,transect_view,profile_view,phase_view,smartg_view,input_view\n",
    "import warnings\n",
    "\n",
    "from scipy.interpolate import interp1d\n",
    "warnings.filterwarnings(\"ignore\")"
   ]
  },
  {
   "cell_type": "code",
   "execution_count": 4,
   "id": "e72b998a-e6f1-44b0-9bf6-f6e8685d9053",
   "metadata": {},
   "outputs": [],
   "source": [
    "from smartg_int_library import *\n",
    "from build_Case2 import build_Case2\n",
    "import numpy as np\n",
    "from scipy.interpolate import interp1d\n",
    "import pickle\n",
    "import pandas as pd\n",
    "import uuid\n",
    "import time"
   ]
  },
  {
   "cell_type": "code",
   "execution_count": 3,
   "id": "bc31a852-3fdb-42f6-aaa8-309c089416dc",
   "metadata": {},
   "outputs": [
    {
     "name": "stdout",
     "output_type": "stream",
     "text": [
      "Chla: 12.062 ug/L\n",
      "Minl: 3.1160428571428573 g/L\n",
      "ag440: 1.16 m^-1\n",
      "Max Depth: 13.5 m\n",
      "Water radius: 2 km\n",
      "Dist from shore: 0.5 km\n"
     ]
    }
   ],
   "source": [
    "import pickle\n",
    "INFO = True\n",
    "WAV = np.linspace(400, 900., num=201, dtype=np.float32)\n",
    "WAV_CDOM = np.arange(240., 900., 2.5, dtype=np.float32)\n",
    "\n",
    "# initiate iop dict\n",
    "# iops, cols, row = build_Case2(phy_library, datamin, datadet, benthic_lib, adj_lib, aero_lib)\n",
    "with open('/nobackup/jakravit/data/iops_test.p','rb') as fp:\n",
    "    iops = pickle.load(fp)\n",
    "    \n",
    "if INFO:\n",
    "    print ('Chla: {} ug/L'.format(iops['Phyto']['TotChl']))\n",
    "    print ('Minl: {} g/L'.format(iops['Min']['Tot_conc']))\n",
    "    print ('ag440: {} m^-1'.format(iops['CDOM']['ag440']))\n",
    "    print ('Max Depth: {} m'.format(iops['Depth']['Dmax']))\n",
    "    print ('Water radius: {} km'.format(iops['Adjacency']['water_radius']))\n",
    "    print ('Dist from shore: {} km'.format(iops['Adjacency']['dist']))"
   ]
  },
  {
   "cell_type": "code",
   "execution_count": 23,
   "id": "aa481950-dce1-4969-a613-91e0c8dda42a",
   "metadata": {},
   "outputs": [
    {
     "name": "stdout",
     "output_type": "stream",
     "text": [
      "<luts.luts.MLUT object at 0x2aaafe7ff1f0>\n",
      " Datasets:\n",
      "  [0] T_oc (float32 in [280, 280]), axes=('z_oc',)\n",
      "  [1] phase_oc (float64 in [0, 11.7]), axes=('iphase', 'stk', 'theta_oc')\n",
      "  [2] iphase_oc (int32 in [0, 111]), axes=('wavelength', 'z_oc')\n",
      "  [3] OD_w (float64 in [-90.5, 0]), axes=('wavelength', 'z_oc')\n",
      "  [4] OD_p_oc (float64 in [-30, 0]), axes=('wavelength', 'z_oc')\n",
      "  [5] OD_y (float64 in [-215, 0]), axes=('wavelength', 'z_oc')\n",
      "  [6] OD_oc (float64 in [-241, 0]), axes=('wavelength', 'z_oc')\n",
      "  [7] OD_sca_oc (float64 in [-20.9, 0]), axes=('wavelength', 'z_oc')\n",
      "  [8] OD_abs_oc (float64 in [-226, 0]), axes=('wavelength', 'z_oc')\n",
      "  [9] pine_oc (float64 in [0, 0]), axes=('wavelength', 'z_oc')\n",
      "  [10] pmol_oc (float32 in [0.000197, 1]), axes=('wavelength', 'z_oc')\n",
      "  [11] ssa_oc (float64 in [0.0633, 1]), axes=('wavelength', 'z_oc')\n",
      "  [12] ssa_p_oc (float32 in [0.589, 1]), axes=('wavelength', 'z_oc')\n",
      "  [13] ssa_w (float64 in [3.46e-05, 1]), axes=('wavelength', 'z_oc')\n",
      "  [14] FQY1_oc (float64 in [0, 0]), axes=('wavelength', 'z_oc')\n",
      "  [15] albedo_seafloor (float64 in [0.0187, 0.102]), axes=('wavelength',)\n",
      " Axes:\n",
      "  [0] wavelength: 101 values in [400.0, 900.0]\n",
      "  [1] z_oc: 28 values in [0.0, -13.5]\n",
      "  [2] theta_oc: 1801 values in [0.0, 180.0]\n"
     ]
    }
   ],
   "source": [
    "# get mixing IOP's\n",
    "ap1,ac1,bp1,vsf1,angles = mix(iops)\n",
    "# aw, bw = read_awbw(aux_dir, WAV)\n",
    "\n",
    "# wavelength grid/slice for absorption and scattering coefficients\n",
    "# wavelength grid for outputs\n",
    "wavrange = slice(0,202,2)\n",
    "wav      = WAV[wavrange]\n",
    "# wav      = np.arange(400,905,5)\n",
    "# wavelength grid/slice for scattering matrices\n",
    "wavrange_vsf = slice(0,200,50)\n",
    "wav_vsf      = WAV[wavrange_vsf]\n",
    "# vertical grid\n",
    "Z = iops['Depth']['Depth']\n",
    "# Z   = np.array([0, -2.5, -5., -10.])\n",
    "xfactor = iops['Depth']['xfactor']\n",
    "zeros = np.zeros_like(wav)\n",
    "\n",
    "#IOP's profiles\n",
    "bp_list = [bp1[wavrange] * x for x in xfactor] \n",
    "ap_list = [ap1[wavrange] * x for x in xfactor]\n",
    "ac_list = [ac1[wavrange] * x for x in xfactor]\n",
    "xfactorvsf = [1 if x==0 else x for x in xfactor]\n",
    "vsf_list = [vsf1[:,wavrange_vsf,:] * x for x in xfactorvsf]\n",
    "# aw_list = [aw[wavrange]] * len(xfactor)\n",
    "# bw_list = [bw[wavrange]] * len(xfactor)\n",
    "aw_list = None # use SMART-G default pure water absorption\n",
    "bw_list = None # use SMART-G default pure water scattering\n",
    "\n",
    "# Albedos speclib library inputs    \n",
    "bALB = Albedo_spectrum2(iops['Benthic']['Tot'])\n",
    "aALB = Albedo_speclib2(iops['Adjacency']['Tot'])\n",
    "\n",
    "# water MLUT building\n",
    "# VSF truncation at 10 deg\n",
    "# seafloor from mixing model\n",
    "water   = import_iop(ap_list, bp_list, ac_list, vsf_list, wav, wav_vsf, Z, angles, \n",
    "                    aw_list=aw_list, bw_list=bw_list, ang_trunc=25, ALB=bALB).describe()\n"
   ]
  },
  {
   "cell_type": "code",
   "execution_count": 24,
   "id": "35813bc6-a74e-4ce9-b5fa-d42a143a5fc6",
   "metadata": {},
   "outputs": [
    {
     "name": "stdout",
     "output_type": "stream",
     "text": [
      "<luts.luts.MLUT object at 0x2aaaf616d2a0>\n",
      " Datasets:\n",
      "  [0] n_atm (float64 in [1, 1]), axes=('wavelength', 'z_atm')\n",
      "  [1] T_atm (float32 in [177, 380]), axes=('z_atm',)\n",
      "  [2] OD_r (float64 in [2.68e-10, 0.36]), axes=('wavelength', 'z_atm')\n",
      "  [3] OD_p (float32 in [0, 0.836]), axes=('wavelength', 'z_atm')\n",
      "  [4] ssa_p_atm (float32 in [0.978, 1]), axes=('wavelength', 'z_atm')\n",
      "  [5] OD_g (float64 in [-0, 0.0423]), axes=('wavelength', 'z_atm')\n",
      "  [6] OD_atm (float64 in [2.68e-10, 1.2]), axes=('wavelength', 'z_atm')\n",
      "  [7] OD_sca_atm (float64 in [0, 1.18]), axes=('wavelength', 'z_atm')\n",
      "  [8] OD_abs_atm (float64 in [0, 0.0534]), axes=('wavelength', 'z_atm')\n",
      "  [9] ssa_atm (float64 in [0.0476, 1]), axes=('wavelength', 'z_atm')\n",
      "  [10] pmol_atm (float64 in [0.00858, 1]), axes=('wavelength', 'z_atm')\n",
      "  [11] pine_atm (float64 in [0, 0]), axes=('wavelength', 'z_atm')\n",
      "  [12] FQY1_atm (float64 in [0, 0]), axes=('wavelength', 'z_atm')\n",
      "  [13] phase_atm (float64 in [-0.315, 115]), axes=('iphase', 'stk', 'theta_atm')\n",
      "  [14] iphase_atm (int32 in [0, 3]), axes=('wavelength', 'z_atm')\n",
      " Axes:\n",
      "  [0] z_atm: 50 values in [120.0, 0.0]\n",
      "  [1] wavelength: 101 values in [400.0, 900.0]\n",
      "  [2] theta_atm: 721 values in [0.0, 180.0]\n"
     ]
    }
   ],
   "source": [
    "# Ocean surface\n",
    "surf=RoughSurface(WAVE_SHADOW=True, WIND=iops['Atm']['wind'])\n",
    "\n",
    "# Land environment\n",
    "D       = iops['Adjacency']['water_radius'] #(km)\n",
    "# The Environement object creates a disk of ocean surface with radius ENV_SIZE\n",
    "# centred on X0,Y0 , surrounded by lambertian reflector of albedo ALB\n",
    "env     = Environment(ENV=1, \n",
    "                      ENV_SIZE= D ,       # radius of the circle with ocean surface condition\n",
    "                      X0= -D,             # X coordinate of the center of the circle\n",
    "                      Y0= 0,\n",
    "                      ALB=aALB # adjacency mixing model\n",
    "                     )\n",
    "\n",
    "#Observer\n",
    "HTOA   = 120.\n",
    "VZA    = iops['Atm']['VZA']\n",
    "VAA    = iops['Atm']['VAA']\n",
    "dist   = iops['Adjacency']['dist'] # distance to the coast(km)\n",
    "DeltaH = HTOA   * np.tan(np.radians(VZA))\n",
    "DeltaX = DeltaH * np.cos(np.radians(180-VAA))\n",
    "DeltaY = DeltaH * np.sin(np.radians(180-VAA))\n",
    "sensor_TOA = Sensor(\n",
    "    POSX = -dist + DeltaX,      # Sensor coordinates (in km) (default:origin(0.,0.,0.))\n",
    "    POSY = DeltaY,\n",
    "    POSZ = HTOA,\n",
    "    THDEG= 180-VZA, # Sensor 'Emitting' zenith angle, from 0: Zenith to 180.: Nadir (default:0.)\n",
    "    PHDEG= VAA,     # Sensor 'Emitting' azimuth angle (default:0.)\n",
    "    LOC  = 'ATMOS', # location of sensor (default: (SURF0P, just above surface)\n",
    "    FOV  = 0.,      # Sensor FOV (default 0.)\n",
    "    TYPE = 0        # Sensor type :Radiance (0), Planar flux (1), Spherical Flux (2), (default 0)\n",
    "    )\n",
    "sensor_BOA = Sensor(THDEG=180-VZA, PHDEG=VAA, TYPE=0, LOC='ATMOS')\n",
    "\n",
    "# Atmosphere\n",
    "# to be computed at eh same wavlegnth grid as water IOP's\n",
    "\n",
    "# monochromatic computation for custom aerosols and cloud\n",
    "wlref = 440.\n",
    "# Aerosols and cloud optical properties using OPAC database as processed by the the libradtran (www.libradtran.org)\n",
    "aer = AeroOPAC( iops['Atm']['aero_prof'], \n",
    "                iops['Atm']['aero'].loc[:,'AOD_Coincident_Input[440nm]'].values, \n",
    "                wlref,\n",
    "                ssa = iops['Atm']['aero'].loc[:,'Single_Scattering_Albedo[440nm]'].values\n",
    "              ) \n",
    "\n",
    "\n",
    "atm = AtmAFGL(atm_filename = iops['Atm']['atm_prof'],    # atmosphere profile\n",
    "              comp=[aer], # no clouds, only aerosols          \n",
    "              #O3 = 0.,   # scale ozone vertical column to 0 Dobson units (here no absoprtion by ozone)\n",
    "              #NO2= False,# disable absorption by NO2\n",
    "              #H2O= 2.,   # scale water vapour column to 2 g/cm-2, but no H2O absoprtion, just hygroscopic computation for aerosols\n",
    "              #P0 = 980., # set sea level pressure to 980 hPa\n",
    "              #tauR=0.1,   # force Rayleigh optical thickness\n",
    "              #grid =   [100., 75., 50., 25., 15., 10., 5., 3., 2., 1.15], # set vertical grid, surface altitude at 1.15 km\n",
    "              #pfgrid = [100., 25., 15., 10., 5., 3., 2., 1.15], # vertical grid for the computation of particles phase functions\n",
    "              pfwav=wav_vsf\n",
    "             ).calc(wav).describe()\n"
   ]
  },
  {
   "cell_type": "code",
   "execution_count": 25,
   "id": "d7100b1f-5749-4668-bce1-2450633fbfd3",
   "metadata": {},
   "outputs": [],
   "source": [
    "le = {'th_deg':np.linspace(30,60,num=2), 'phi_deg':np.linspace(0,360,num=4)}\n",
    "alis = True\n",
    "alis_options = {'nlow':-1}\n",
    "SMa = Smartg(device=0, back=True, alt_pp=True, alis=alis)\n",
    "SM  = Smartg(device=0, back=True, alt_pp=True)"
   ]
  },
  {
   "cell_type": "code",
   "execution_count": 27,
   "id": "8ff3ede9-3d53-488c-b4d5-23f23571adb9",
   "metadata": {},
   "outputs": [
    {
     "data": {
      "application/vnd.jupyter.widget-view+json": {
       "model_id": "fcc39a52b0e14f19ba0fe34dea4a62e9",
       "version_major": 2,
       "version_minor": 0
      },
      "text/plain": [
       "Box(children=(FloatProgress(value=0.0, max=10000.0), Label(value='')), layout=Layout(align_items='center', dis…"
      ]
     },
     "metadata": {},
     "output_type": "display_data"
    },
    {
     "name": "stdout",
     "output_type": "stream",
     "text": [
      "CPU times: user 591 ms, sys: 401 ms, total: 991 ms\n",
      "Wall time: 992 ms\n"
     ]
    }
   ],
   "source": [
    "%%time\n",
    "mBa  = SMa.run(wl=wav, water=water, atm=atm, surf=surf, NBPHOTONS=1e4, env=env,\n",
    "             sensor=sensor_TOA, NF=1e3, alis_options=alis_options, le=le, OUTPUT_LAYERS=3,)"
   ]
  },
  {
   "cell_type": "code",
   "execution_count": 26,
   "id": "dd189810-43ab-45d3-a347-299212d0ab63",
   "metadata": {},
   "outputs": [
    {
     "data": {
      "application/vnd.jupyter.widget-view+json": {
       "model_id": "ea9080237e994146b4e465c4a02d550d",
       "version_major": 2,
       "version_minor": 0
      },
      "text/plain": [
       "Box(children=(FloatProgress(value=0.0, max=10000.0), Label(value='')), layout=Layout(align_items='center', dis…"
      ]
     },
     "metadata": {},
     "output_type": "display_data"
    },
    {
     "name": "stdout",
     "output_type": "stream",
     "text": [
      "CPU times: user 22.2 s, sys: 17.5 s, total: 39.7 s\n",
      "Wall time: 39.8 s\n"
     ]
    }
   ],
   "source": [
    "%%time\n",
    "mBa2  = SMa.run(wl=wav, water=water, atm=atm, surf=surf, NBPHOTONS=1e4,\n",
    "             sensor=sensor_TOA, NF=1e3, alis_options=alis_options, le=le, OUTPUT_LAYERS=3,)"
   ]
  },
  {
   "cell_type": "code",
   "execution_count": 14,
   "id": "f1e2ba76-73df-457e-bf9a-0fa55f82d7e3",
   "metadata": {},
   "outputs": [
    {
     "data": {
      "application/vnd.jupyter.widget-view+json": {
       "model_id": "dab6ae3a1bc446beae3d6d86542a8821",
       "version_major": 2,
       "version_minor": 0
      },
      "text/plain": [
       "Box(children=(FloatProgress(value=0.0, max=1000000.0), Label(value='')), layout=Layout(align_items='center', d…"
      ]
     },
     "metadata": {},
     "output_type": "display_data"
    },
    {
     "name": "stdout",
     "output_type": "stream",
     "text": [
      "CPU times: user 280 ms, sys: 128 ms, total: 408 ms\n",
      "Wall time: 404 ms\n"
     ]
    }
   ],
   "source": [
    "%%time\n",
    "mB  = SM.run(wl=wav, water=water, atm=atm, surf=surf, NBPHOTONS=1e6, env=env,\n",
    "             sensor=sensor_TOA, NF=1e3, le=le, OUTPUT_LAYERS=3,)"
   ]
  },
  {
   "cell_type": "code",
   "execution_count": 28,
   "id": "62c862e2-fa92-44bd-807b-c1c3e0716cc1",
   "metadata": {},
   "outputs": [
    {
     "data": {
      "image/png": "[encoded data removed]",
      "text/plain": [
       "<Figure size 432x288 with 1 Axes>"
      ]
     },
     "metadata": {
      "needs_background": "light"
     },
     "output_type": "display_data"
    }
   ],
   "source": [
    "lut1_90 = mBa ['I_up (TOA)'].sub({'Zenith angles':Idx([30,60]), 'Azimuth angles':Idx(90)})\n",
    "lut1_0  = mBa ['I_up (TOA)'].sub({'Zenith angles':Idx([30,60]), 'Azimuth angles':Idx(0)})\n",
    "lut2_90 = mBa2['I_up (TOA)'].sub({'Zenith angles':Idx([30,60]), 'Azimuth angles':Idx(90)})\n",
    "lut2_0  = mBa2['I_up (TOA)'].sub({'Zenith angles':Idx([30,60]), 'Azimuth angles':Idx(0)})\n",
    "f = figure()\n",
    "spectrum(lut1_90, vmin=0, vmax=None, sub=111,  fig=f, color='c', percent=False, fmt='.')\n",
    "spectrum(lut1_0,  vmin=0, vmax=None, sub=None, fig=f, color='b', percent=False, fmt='.')\n",
    "spectrum(lut2_90, vmin=0, vmax=None, sub=None, fig=f, color='c', percent=False, fmt='-')\n",
    "spectrum(lut2_0,  vmin=0, vmax=None, sub=None, fig=f, color='b', percent=False, fmt='-')"
   ]
  },
  {
   "cell_type": "code",
   "execution_count": 29,
   "id": "03da47d3-4a3f-49fd-8157-0e0b52ba6e1c",
   "metadata": {},
   "outputs": [
    {
     "data": {
      "image/png": "[encoded data removed]",
      "text/plain": [
       "<Figure size 432x288 with 1 Axes>"
      ]
     },
     "metadata": {
      "needs_background": "light"
     },
     "output_type": "display_data"
    }
   ],
   "source": [
    "lut1_90 = mBa ['I_up (0+)'].sub({'Zenith angles':Idx([30,60]), 'Azimuth angles':Idx(90)})\n",
    "lut1_0  = mBa ['I_up (0+)'].sub({'Zenith angles':Idx([30,60]), 'Azimuth angles':Idx(0)})\n",
    "lut2_90 = mBa2['I_up (0+)'].sub({'Zenith angles':Idx([30,60]), 'Azimuth angles':Idx(90)})\n",
    "lut2_0  = mBa2['I_up (0+)'].sub({'Zenith angles':Idx([30,60]), 'Azimuth angles':Idx(0)})\n",
    "f = figure()\n",
    "spectrum(lut1_90, vmin=0, vmax=None, sub=111,  fig=f, color='c', percent=False, fmt='.')\n",
    "spectrum(lut1_0,  vmin=0, vmax=None, sub=None, fig=f, color='b', percent=False, fmt='.')\n",
    "spectrum(lut2_90, vmin=0, vmax=None, sub=None, fig=f, color='c', percent=False, fmt='-')\n",
    "spectrum(lut2_0,  vmin=0, vmax=None, sub=None, fig=f, color='b', percent=False, fmt='-')"
   ]
  },
  {
   "cell_type": "code",
   "execution_count": 16,
   "id": "6bcfb89d-89c8-4fb5-9692-a348ad0b506c",
   "metadata": {},
   "outputs": [
    {
     "name": "stdout",
     "output_type": "stream",
     "text": [
      "<luts.luts.MLUT object at 0x2aaab5e5bca0>\n",
      " Datasets:\n",
      "  [0] I_up (TOA) (float64 in [0.299, 0.51]), axes=('wavelength', 'Azimuth angles', 'Zenith angles')\n",
      "  [1] Q_up (TOA) (float64 in [-0.095, 0.0775]), axes=('wavelength', 'Azimuth angles', 'Zenith angles')\n",
      "  [2] U_up (TOA) (float64 in [-0.05, 0.0484]), axes=('wavelength', 'Azimuth angles', 'Zenith angles')\n",
      "  [3] V_up (TOA) (float64 in [-0.000366, 0.000399]), axes=('wavelength', 'Azimuth angles', 'Zenith angles')\n",
      "  [4] N_up (TOA) (uint64 in [5.16e+04, 1.47e+05]), axes=('wavelength', 'Azimuth angles', 'Zenith angles')\n",
      "  [5] I_down (0+) (float64 in [0.124, 1.28]), axes=('wavelength', 'Azimuth angles', 'Zenith angles')\n",
      "  [6] Q_down (0+) (float64 in [-0.0229, 0.0374]), axes=('wavelength', 'Azimuth angles', 'Zenith angles')\n",
      "  [7] U_down (0+) (float64 in [-0.0649, 0.0471]), axes=('wavelength', 'Azimuth angles', 'Zenith angles')\n",
      "  [8] V_down (0+) (float64 in [-0.000248, 0.000207]), axes=('wavelength', 'Azimuth angles', 'Zenith angles')\n",
      "  [9] N_down (0+) (uint64 in [2.43e+04, 1.18e+05]), axes=('wavelength', 'Azimuth angles', 'Zenith angles')\n",
      "  [10] I_up (0-) (float64 in [0, 0]), axes=('wavelength', 'Azimuth angles', 'Zenith angles')\n",
      "  [11] Q_up (0-) (float64 in [0, 0]), axes=('wavelength', 'Azimuth angles', 'Zenith angles')\n",
      "  [12] U_up (0-) (float64 in [0, 0]), axes=('wavelength', 'Azimuth angles', 'Zenith angles')\n",
      "  [13] V_up (0-) (float64 in [0, 0]), axes=('wavelength', 'Azimuth angles', 'Zenith angles')\n",
      "  [14] N_up (0-) (uint64 in [0, 0]), axes=('wavelength', 'Azimuth angles', 'Zenith angles')\n",
      "  [15] I_down (0-) (float64 in [0, 0]), axes=('wavelength', 'Azimuth angles', 'Zenith angles')\n",
      "  [16] Q_down (0-) (float64 in [0, 0]), axes=('wavelength', 'Azimuth angles', 'Zenith angles')\n",
      "  [17] U_down (0-) (float64 in [0, 0]), axes=('wavelength', 'Azimuth angles', 'Zenith angles')\n",
      "  [18] V_down (0-) (float64 in [0, 0]), axes=('wavelength', 'Azimuth angles', 'Zenith angles')\n",
      "  [19] N_down (0-) (uint64 in [0, 0]), axes=('wavelength', 'Azimuth angles', 'Zenith angles')\n",
      "  [20] I_up (0+) (float64 in [0.183, 0.51]), axes=('wavelength', 'Azimuth angles', 'Zenith angles')\n",
      "  [21] Q_up (0+) (float64 in [-0.000496, 0.000727]), axes=('wavelength', 'Azimuth angles', 'Zenith angles')\n",
      "  [22] U_up (0+) (float64 in [-0.000508, 0.000331]), axes=('wavelength', 'Azimuth angles', 'Zenith angles')\n",
      "  [23] V_up (0+) (float64 in [-3.35e-05, 2.79e-05]), axes=('wavelength', 'Azimuth angles', 'Zenith angles')\n",
      "  [24] N_up (0+) (uint64 in [2.68e+04, 2.93e+04]), axes=('wavelength', 'Azimuth angles', 'Zenith angles')\n",
      "  [25] I_down (B) (float64 in [0, 0]), axes=('wavelength', 'Azimuth angles', 'Zenith angles')\n",
      "  [26] Q_down (B) (float64 in [0, 0]), axes=('wavelength', 'Azimuth angles', 'Zenith angles')\n",
      "  [27] U_down (B) (float64 in [0, 0]), axes=('wavelength', 'Azimuth angles', 'Zenith angles')\n",
      "  [28] V_down (B) (float64 in [0, 0]), axes=('wavelength', 'Azimuth angles', 'Zenith angles')\n",
      "  [29] N_down (B) (uint64 in [0, 0]), axes=('wavelength', 'Azimuth angles', 'Zenith angles')\n",
      "  [30] direct transmission (float64 in [0.301, 0.749]), axes=('wavelength',)\n",
      "  [31] n_atm (float64 in [1, 1]), axes=('wavelength', 'z_atm')\n",
      "  [32] T_atm (float32 in [177, 380]), axes=('z_atm',)\n",
      "  [33] OD_r (float64 in [2.68e-10, 0.36]), axes=('wavelength', 'z_atm')\n",
      "  [34] OD_p (float32 in [0, 0.836]), axes=('wavelength', 'z_atm')\n",
      "  [35] OD_g (float64 in [-0, 0.0423]), axes=('wavelength', 'z_atm')\n",
      "  [36] OD_atm (float64 in [2.68e-10, 1.2]), axes=('wavelength', 'z_atm')\n",
      "  [37] OD_sca_atm (float64 in [0, 1.18]), axes=('wavelength', 'z_atm')\n",
      "  [38] OD_abs_atm (float64 in [0, 0.0534]), axes=('wavelength', 'z_atm')\n",
      "  [39] pmol_atm (float64 in [0.00858, 1]), axes=('wavelength', 'z_atm')\n",
      "  [40] ssa_atm (float64 in [0.049, 1]), axes=('wavelength', 'z_atm')\n",
      "  [41] ssa_p_atm (float32 in [0.978, 1]), axes=('wavelength', 'z_atm')\n",
      "  [42] phase_atm (float64 in [-0.315, 115]), axes=('iphase', 'stk', 'theta_atm')\n",
      "  [43] iphase_atm (int32 in [0, 3]), axes=('wavelength', 'z_atm')\n",
      "  [44] pine_atm (float64 in [0, 0]), axes=('wavelength', 'z_atm')\n",
      "  [45] FQY1_atm (float64 in [0, 0]), axes=('wavelength', 'z_atm')\n",
      "  [46] T_oc (float32 in [280, 280]), axes=('z_oc',)\n",
      "  [47] OD_w (float64 in [-90.5, 0]), axes=('wavelength', 'z_oc')\n",
      "  [48] OD_p_oc (float64 in [-29.6, 0]), axes=('wavelength', 'z_oc')\n",
      "  [49] OD_y (float64 in [-215, 0]), axes=('wavelength', 'z_oc')\n",
      "  [50] OD_oc (float64 in [-241, 0]), axes=('wavelength', 'z_oc')\n",
      "  [51] OD_sca_oc (float64 in [-20.8, 0]), axes=('wavelength', 'z_oc')\n",
      "  [52] OD_abs_oc (float64 in [-226, 0]), axes=('wavelength', 'z_oc')\n",
      "  [53] pmol_oc (float32 in [0.000195, 1]), axes=('wavelength', 'z_oc')\n",
      "  [54] ssa_oc (float64 in [0.0633, 1]), axes=('wavelength', 'z_oc')\n",
      "  [55] ssa_w (float64 in [3.46e-05, 1]), axes=('wavelength', 'z_oc')\n",
      "  [56] ssa_p_oc (float32 in [0.589, 1]), axes=('wavelength', 'z_oc')\n",
      "  [57] phase_oc (float64 in [0, 11.7]), axes=('iphase', 'stk', 'theta_oc')\n",
      "  [58] iphase_oc (int32 in [0, 111]), axes=('wavelength', 'z_oc')\n",
      "  [59] pine_oc (float64 in [0, 0]), axes=('wavelength', 'z_oc')\n",
      "  [60] FQY1_oc (float64 in [0, 0]), axes=('wavelength', 'z_oc')\n",
      "  [61] albedo_seafloor (float64 in [0.0187, 0.102]), axes=('wavelength',)\n",
      " Axes:\n",
      "  [0] Zenith angles: 2 values in [30.0, 60.0]\n",
      "  [1] Azimuth angles: 4 values in [0.0, 360.0]\n",
      "  [2] wavelength: 41 values in [400.0, 900.0]\n",
      "  [3] z_atm: 50 values in [120.0, 0.0]\n",
      "  [4] theta_atm: 721 values in [0.0, 180.0]\n",
      "  [5] z_oc: 28 values in [0.0, -13.5]\n",
      "  [6] theta_oc: 1801 values in [0.0, 180.0]\n"
     ]
    },
    {
     "data": {
      "text/plain": [
       "<luts.luts.MLUT at 0x2aaab5e5bca0>"
      ]
     },
     "execution_count": 16,
     "metadata": {},
     "output_type": "execute_result"
    }
   ],
   "source": [
    "mB.describe()"
   ]
  },
  {
   "cell_type": "code",
   "execution_count": null,
   "id": "430c35a9-dc02-46f8-99be-5ad43f1ff68d",
   "metadata": {},
   "outputs": [],
   "source": []
  }
 ],
 "metadata": {
  "kernelspec": {
   "display_name": "Python 3 (ipykernel)",
   "language": "python",
   "name": "python3"
  },
  "language_info": {
   "codemirror_mode": {
    "name": "ipython",
    "version": 3
   },
   "file_extension": ".py",
   "mimetype": "text/x-python",
   "name": "python",
   "nbconvert_exporter": "python",
   "pygments_lexer": "ipython3",
   "version": "3.10.4"
  }
 },
 "nbformat": 4,
 "nbformat_minor": 5
}
